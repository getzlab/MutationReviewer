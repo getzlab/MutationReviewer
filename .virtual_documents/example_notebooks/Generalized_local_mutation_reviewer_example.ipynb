


%load_ext autoreload
%autoreload 2


import pandas as pd
import numpy as np
import os
from MutationReviewer.Reviewers.GeneralMutationReviewer import GeneralMutationReviewer
import dalmatian


data_dir = './data/'
if not os.path.isdir(data_dir):
    os.mkdir(data_dir)
    
notebook_data_dir = f'{data_dir}/general_local_mutation_reviewer_example/'
if not os.path.isdir(notebook_data_dir):
    os.mkdir(notebook_data_dir)





from download_1000genomes_bams import download_genomes, download_vcf, format_vcf, subset_patients_vcf





vcf_path = '../1k_genomes/tp53.vcf'


download_vcf(
    vcf_path,
    onek_chr_ftp_path="https://ftp.1000genomes.ebi.ac.uk/vol1/ftp/release/20130502/ALL.chr17.phase3_shapeit2_mvncall_integrated_v5b.20130502.genotypes.vcf.gz",
    region_str="17:7571739-7590808",
)


vcf_df, patients = format_vcf(vcf_path)


subset_patients = patients[:5]
subset_patients


reformat_patient_vcf_df = subset_patients_vcf(vcf_df, subset_patients)


reformat_patient_vcf_df.head()





output_dir = '../1k_genomes'


bam_paths_fn = download_genomes(
    patient_ids=subset_patients, 
    output_dir=os.path.abspath(output_dir),
    onek_genomes_ftp="ftp.1000genomes.ebi.ac.uk",
    patient_path_str_format="/vol1/ftp/phase3/data/REPLACE/exome_alignment/REPLACE.mapped.ILLUMINA.bwa.GBR.exome.*.bam",
    region_str="17:7571739-7590808", # TP53
    replace_str='REPLACE',
)


bam_paths_df = pd.read_csv(f'{output_dir}/1k_genomes_bam_paths.txt', sep='\t', index_col=0)
bam_paths_df.index.name = 'patient_id'
bam_paths_df = bam_paths_df.reset_index()


bam_paths_df.local_bam_path.tolist()


bam_paths_df.original_ftp_path_bai.tolist()








local_data_pkl_fn = f'{notebook_data_dir}/1k_genomes.TP53.review_data.local.pkl'
local_review_description = 'Test reviewer with local bam paths'


local_reviewer = GeneralMutationReviewer()
local_reviewer.set_review_data(
    data_pkl_fn=local_data_pkl_fn, 
    description=local_review_description,     
    mutations_df=reformat_patient_vcf_df,
    mutation_groupby_cols=['CHROM', 'POS'], # columns to groupby
    mutations_df_bam_ref_col='patient_id', 
    chrom_cols='CHROM', # if a list, must be same length as start_pos_cols
    pos_cols='POS',
    bams_df=bam_paths_df,
    bams_df_ref_col='patient_id',
    bam_cols='local_bam_path',
    bai_cols='local_bai_path',
)
local_reviewer.set_default_review_data_annotations_configuration()


local_reviewer.set_review_app(
    mutation_table_display_cols=['CHROM', 'POS', 'REF', 'ALT', 'QUAL', 'patient_id'],
    bam_table_display_cols=[],
    igv_mode='igv_local', # <--
)


local_reviewer.run(port=8095, collapsable=False)





data_pkl_fn = f'{notebook_data_dir}/1k_genomes.TP53.review_data.use_urls.pkl'
review_description = 'Test reviewer with FRP bam paths'


reviewer = GeneralMutationReviewer()
reviewer.set_review_data(
    data_pkl_fn=data_pkl_fn, 
    description=review_description,     
    mutations_df=reformat_patient_vcf_df,
    mutation_groupby_cols=['CHROM', 'POS'], # columns to groupby
    mutations_df_bam_ref_col='patient_id', 
    chrom_cols='CHROM', # if a list, must be same length as start_pos_cols
    pos_cols='POS',
    bams_df=bam_paths_df,
    bams_df_ref_col='patient_id',
    bam_cols='original_ftp_path',
    bai_cols='original_ftp_path_bai',
)
reviewer.set_default_review_data_annotations_configuration()





reviewer.set_review_app(
    mutation_table_display_cols=['CHROM', 'POS', 'REF', 'ALT', 'QUAL', 'patient_id'],
    bam_table_display_cols=[],
    igv_mode='igv_js',
)


reviewer.run(port=8094, collapsable=False)





reviewer.set_review_app(
    mutation_table_display_cols='CHROM	POS	ID	REF	ALT	QUAL	FILTER	INFO	FORMAT	patient_id'.split(),
    bam_table_display_cols=[],
    igv_mode='igv_local',
)


reviewer.run(port=8094)





reviewer.set_review_app(
    mutation_table_display_cols='CHROM	POS	ID	REF	ALT	QUAL	FILTER	INFO	FORMAT	patient_id'.split(),
    bam_table_display_cols=[],
    igv_mode='both',
)


reviewer.run(port=8094)



