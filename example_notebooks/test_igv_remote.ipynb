{
 "cells": [
  {
   "cell_type": "markdown",
   "id": "6cf9eb1b-6a01-48e9-b3d3-f5aa18309c19",
   "metadata": {},
   "source": [
    "# Test new IGV remote"
   ]
  },
  {
   "cell_type": "code",
   "execution_count": 1,
   "id": "440eb555-51e9-4901-a151-f1fb7d35ec38",
   "metadata": {},
   "outputs": [],
   "source": [
    "%load_ext autoreload\n",
    "%autoreload 2"
   ]
  },
  {
   "cell_type": "code",
   "execution_count": 14,
   "id": "c6310a82-3fed-4ec8-a956-aee26db41e9b",
   "metadata": {},
   "outputs": [],
   "source": [
    "import socket\n",
    "import os\n",
    "import re"
   ]
  },
  {
   "cell_type": "code",
   "execution_count": 3,
   "id": "017e7bd4-2061-431c-8e8f-c89b6be70091",
   "metadata": {},
   "outputs": [],
   "source": [
    "import pandas as pd"
   ]
  },
  {
   "cell_type": "code",
   "execution_count": 4,
   "id": "5a6d2797-112f-40a8-9482-217c3eed728e",
   "metadata": {},
   "outputs": [],
   "source": [
    "bam_paths_df = pd.read_csv('/Users/cchu/Desktop/Methods/MutationReviewer/1k_genomes/1k_genomes_bam_paths.txt', sep='\\t', index_col=0)\n",
    "bam_paths_df.index.name = 'patient_id'\n",
    "bam_paths_df = bam_paths_df.reset_index()"
   ]
  },
  {
   "cell_type": "code",
   "execution_count": 5,
   "id": "4e059a9f-c123-4841-b132-e93033050a0f",
   "metadata": {},
   "outputs": [
    {
     "data": {
      "text/plain": [
       "'/Users/cchu/opt/anaconda3/envs/mutation_reviewer_env/lib/python3.8/socket.py'"
      ]
     },
     "execution_count": 5,
     "metadata": {},
     "output_type": "execute_result"
    }
   ],
   "source": [
    "socket.__file__"
   ]
  },
  {
   "cell_type": "markdown",
   "id": "1131c5b2-bc69-4e67-9e44-af41e099e5e0",
   "metadata": {},
   "source": [
    "# test sockets"
   ]
  },
  {
   "cell_type": "code",
   "execution_count": 6,
   "id": "d76537db-ec1b-44b9-b7e3-614ebb9db218",
   "metadata": {},
   "outputs": [],
   "source": [
    "HOST = \"127.0.0.1\"  # The server's hostname or IP address\n",
    "PORT = 60151  # The port used by the server\n",
    "chromosome=17 \n",
    "start_pos=7_569_720\n",
    "end_pos = 7_592_868"
   ]
  },
  {
   "cell_type": "code",
   "execution_count": 7,
   "id": "17b1aa65-1fa9-422f-a3b7-d3a1c3e55f8b",
   "metadata": {},
   "outputs": [],
   "source": [
    "s = socket.socket(socket.AF_INET, socket.SOCK_STREAM)\n",
    "s.connect((HOST, PORT))\n",
    "# # s.recv(2000)\n",
    "s.close()"
   ]
  },
  {
   "cell_type": "code",
   "execution_count": 8,
   "id": "266a4519-6a33-45e7-8eee-b4a2999a06f5",
   "metadata": {},
   "outputs": [
    {
     "data": {
      "text/plain": [
       "<socket.socket [closed] fd=-1, family=AddressFamily.AF_INET, type=SocketKind.SOCK_STREAM, proto=0>"
      ]
     },
     "execution_count": 8,
     "metadata": {},
     "output_type": "execute_result"
    }
   ],
   "source": [
    "s"
   ]
  },
  {
   "cell_type": "code",
   "execution_count": 26,
   "id": "603db69d-a59c-45d4-ac5e-f786beb9a03e",
   "metadata": {},
   "outputs": [
    {
     "data": {
      "text/plain": [
       "6"
      ]
     },
     "execution_count": 26,
     "metadata": {},
     "output_type": "execute_result"
    }
   ],
   "source": [
    "s.send('new \\n '.encode('utf-8'))"
   ]
  },
  {
   "cell_type": "code",
   "execution_count": 27,
   "id": "adf912c1-8e0a-4616-8fc0-5583594667be",
   "metadata": {},
   "outputs": [
    {
     "data": {
      "text/plain": [
       "b'OK\\n'"
      ]
     },
     "execution_count": 27,
     "metadata": {},
     "output_type": "execute_result"
    }
   ],
   "source": [
    "s.recv(4096)"
   ]
  },
  {
   "cell_type": "code",
   "execution_count": 28,
   "id": "bb56caaf-bd5a-4ac3-b1d0-323e94d65330",
   "metadata": {},
   "outputs": [
    {
     "data": {
      "text/plain": [
       "25"
      ]
     },
     "execution_count": 28,
     "metadata": {},
     "output_type": "execute_result"
    }
   ],
   "source": [
    "s.send('goto {}:{}-{} \\n'.format(chromosome, start_pos, end_pos).encode('utf-8'))"
   ]
  },
  {
   "cell_type": "code",
   "execution_count": 29,
   "id": "252e7fd5-1c6b-44b0-9ac2-5aae9b1f0780",
   "metadata": {},
   "outputs": [
    {
     "data": {
      "text/plain": [
       "b'OK\\n'"
      ]
     },
     "execution_count": 29,
     "metadata": {},
     "output_type": "execute_result"
    }
   ],
   "source": [
    "s.recv(4096)"
   ]
  },
  {
   "cell_type": "code",
   "execution_count": 30,
   "id": "9dbe0a6d-b06b-464d-be81-3d3ec2e1c897",
   "metadata": {},
   "outputs": [
    {
     "data": {
      "text/plain": [
       "5"
      ]
     },
     "execution_count": 30,
     "metadata": {},
     "output_type": "execute_result"
    }
   ],
   "source": [
    "s.send('new\\n '.encode('utf-8'))"
   ]
  },
  {
   "cell_type": "code",
   "execution_count": 31,
   "id": "7b201c84-ab73-4364-8db6-0864ca3006f7",
   "metadata": {},
   "outputs": [
    {
     "data": {
      "text/plain": [
       "b'OK\\n'"
      ]
     },
     "execution_count": 31,
     "metadata": {},
     "output_type": "execute_result"
    }
   ],
   "source": [
    "s.recv(4096)"
   ]
  },
  {
   "cell_type": "code",
   "execution_count": 34,
   "id": "8692f3f8-0b1b-4696-9554-6d3a7627fdf7",
   "metadata": {},
   "outputs": [
    {
     "data": {
      "text/plain": [
       "'/Users/cchu/Desktop/Methods/MutationReviewer/1k_genomes/HG00096.17_7571739_7590808.bam'"
      ]
     },
     "execution_count": 34,
     "metadata": {},
     "output_type": "execute_result"
    }
   ],
   "source": [
    "fn = bam_paths_df.iloc[0]['local_bam_path']\n",
    "fn"
   ]
  },
  {
   "cell_type": "code",
   "execution_count": 40,
   "id": "04dbad71-0ee2-4d77-b4db-8a2d3b31b3aa",
   "metadata": {},
   "outputs": [
    {
     "ename": "OSError",
     "evalue": "[Errno 9] Bad file descriptor",
     "output_type": "error",
     "traceback": [
      "\u001b[0;31m---------------------------------------------------------------------------\u001b[0m",
      "\u001b[0;31mOSError\u001b[0m                                   Traceback (most recent call last)",
      "\u001b[0;32m/var/folders/h3/49kgmgs54yv7pd7wbst2wfv80000gp/T/ipykernel_60251/2974976381.py\u001b[0m in \u001b[0;36m<module>\u001b[0;34m\u001b[0m\n\u001b[0;32m----> 1\u001b[0;31m \u001b[0ms\u001b[0m\u001b[0;34m.\u001b[0m\u001b[0msend\u001b[0m\u001b[0;34m(\u001b[0m\u001b[0;34mf'load {fn} \\n '\u001b[0m\u001b[0;34m.\u001b[0m\u001b[0mencode\u001b[0m\u001b[0;34m(\u001b[0m\u001b[0;34m'utf-8'\u001b[0m\u001b[0;34m)\u001b[0m\u001b[0;34m)\u001b[0m\u001b[0;34m\u001b[0m\u001b[0m\n\u001b[0m",
      "\u001b[0;31mOSError\u001b[0m: [Errno 9] Bad file descriptor"
     ]
    }
   ],
   "source": [
    "s.send(f'load {fn} \\n '.encode('utf-8'))"
   ]
  },
  {
   "cell_type": "code",
   "execution_count": 39,
   "id": "6f3825e9-e4a4-4217-a461-47d05e8e3191",
   "metadata": {},
   "outputs": [
    {
     "ename": "OSError",
     "evalue": "[Errno 9] Bad file descriptor",
     "output_type": "error",
     "traceback": [
      "\u001b[0;31m---------------------------------------------------------------------------\u001b[0m",
      "\u001b[0;31mOSError\u001b[0m                                   Traceback (most recent call last)",
      "\u001b[0;32m/var/folders/h3/49kgmgs54yv7pd7wbst2wfv80000gp/T/ipykernel_60251/2710120025.py\u001b[0m in \u001b[0;36m<module>\u001b[0;34m\u001b[0m\n\u001b[0;32m----> 1\u001b[0;31m \u001b[0ms\u001b[0m\u001b[0;34m.\u001b[0m\u001b[0mrecv\u001b[0m\u001b[0;34m(\u001b[0m\u001b[0;36m4096\u001b[0m\u001b[0;34m)\u001b[0m\u001b[0;34m\u001b[0m\u001b[0m\n\u001b[0m",
      "\u001b[0;31mOSError\u001b[0m: [Errno 9] Bad file descriptor"
     ]
    }
   ],
   "source": [
    "s.recv(4096)"
   ]
  },
  {
   "cell_type": "code",
   "execution_count": 11,
   "id": "9d7becf2-9df8-4616-824f-1b35bc73a05d",
   "metadata": {},
   "outputs": [],
   "source": [
    "from importlib.metadata import version"
   ]
  },
  {
   "cell_type": "code",
   "execution_count": 24,
   "id": "c62051ec-164c-4e56-9218-f823b52cee92",
   "metadata": {},
   "outputs": [
    {
     "name": "stdout",
     "output_type": "stream",
     "text": [
      "b'OK\\n'\n",
      "b'OK\\n'\n",
      "b'OK\\n'\n"
     ]
    }
   ],
   "source": [
    "s = socket.socket(socket.AF_INET, socket.SOCK_STREAM)\n",
    "s.connect((HOST, PORT))\n",
    "s.send('new \\n '.encode('utf-8'))\n",
    "print(s.recv(4096))\n",
    "s.send('goto {}:{}-{} \\n'.format(chromosome, start_pos, end_pos).encode('utf-8'))\n",
    "print(s.recv(4096))\n",
    "s.send(f'load {bam_paths_df.iloc[0][\"local_bam_path\"]} \\n '.encode('utf-8'))\n",
    "print(s.recv(4096))\n",
    "s.close()"
   ]
  },
  {
   "cell_type": "code",
   "execution_count": 25,
   "id": "ebf81b54-274c-4e11-b84c-99d4fc59624f",
   "metadata": {},
   "outputs": [
    {
     "name": "stdout",
     "output_type": "stream",
     "text": [
      "b'OK\\n'\n",
      "b'OK\\n'\n",
      "b'OK\\n'\n"
     ]
    }
   ],
   "source": [
    "s = socket.socket(socket.AF_INET, socket.SOCK_STREAM)\n",
    "s.connect((HOST, PORT))\n",
    "s.send('new \\n '.encode('utf-8'))\n",
    "print(s.recv(4096))\n",
    "s.send('goto {}:{}-{} \\n'.format(chromosome, start_pos, end_pos).encode('utf-8'))\n",
    "print(s.recv(4096))\n",
    "s.send(f'load {bam_paths_df.iloc[1][\"local_bam_path\"]} \\n '.encode('utf-8'))\n",
    "print(s.recv(4096))\n",
    "s.close()"
   ]
  },
  {
   "cell_type": "code",
   "execution_count": 26,
   "id": "1679a229-c645-4185-a5cb-9202f13e4c30",
   "metadata": {},
   "outputs": [
    {
     "name": "stdout",
     "output_type": "stream",
     "text": [
      "b'OK\\n'\n",
      "b'OK\\n'\n",
      "b'OK\\n'\n",
      "b'OK\\n'\n"
     ]
    }
   ],
   "source": [
    "s = socket.socket(socket.AF_INET, socket.SOCK_STREAM)\n",
    "s.connect((HOST, PORT))\n",
    "s.send('new \\n '.encode('utf-8'))\n",
    "print(s.recv(4096))\n",
    "s.send('goto {}:{}-{} \\n'.format(chromosome, start_pos, end_pos).encode('utf-8'))\n",
    "print(s.recv(4096))\n",
    "s.send(f'load {bam_paths_df.iloc[0][\"local_bam_path\"]} \\n '.encode('utf-8'))\n",
    "print(s.recv(4096))\n",
    "s.send(f'load {bam_paths_df.iloc[1][\"local_bam_path\"]} \\n '.encode('utf-8'))\n",
    "print(s.recv(4096))\n",
    "s.close()"
   ]
  },
  {
   "cell_type": "code",
   "execution_count": 185,
   "id": "4f0b3b2b-2376-40f2-a1e9-b1d64291441b",
   "metadata": {},
   "outputs": [],
   "source": [
    "def _append_id(filename, id):\n",
    "    return \"{0}_{2}.{1}\".format(*filename.rsplit('.', 1) + [id])\n",
    "\n",
    "def _parse_loc(chromosome, pos1, pos2=None, expand=20):\n",
    "    if expand < 20:\n",
    "        print(\"IGV expands left and right margin by at least 20bp\")\n",
    "        expand=20\n",
    "    start_pos = int(pos1-expand)\n",
    "    if pos2 is None:\n",
    "        end_pos = int(pos1+expand)\n",
    "    else:\n",
    "        end_pos = int(pos2)\n",
    "    start_pos ='{:,}'.format(int(start_pos))\n",
    "    end_pos = '{:,}'.format(int(end_pos))\n",
    "    position= '{}:{}-{}'.format(chromosome, start_pos, end_pos)\n",
    "    print(\"Position to view: {}\".format(position))\n",
    "    return position\n",
    "\n",
    "VALID_VIEW_OPTS = ['squish', 'collapse', 'expand']\n",
    "\n",
    "class igv_remote:\n",
    "\n",
    "    def __init__(self, host=\"127.0.0.1\", port=60151, view_type='collapse', sort='base', verbose=True, recv_timeout=60):\n",
    "        self.set_viewopts(view_type,  sort)\n",
    "        self.HOST = host\n",
    "        self.PORT = port\n",
    "\n",
    "        self.verboseprint = print if verbose else lambda *a, **k: None\n",
    "        self.recv_timeout = recv_timeout # time to wait for a response from IGV before exiting (seconds)\n",
    "\n",
    "    def set_viewopts(self, view_type,  sort):\n",
    "        if view_type not in VALID_VIEW_OPTS:\n",
    "            raise ValueError(f\"view_type must be one of {VALID_VIEW_OPTS}. Input was {view_type}\")\n",
    "        self._view_type = view_type\n",
    "        self._sort = sort\n",
    "\n",
    "    def set_saveopts(self, img_dir, img_basename, img_init_id=0) :\n",
    "        # check if path is absolute and exits\n",
    "        if not os.path.exists(img_dir):\n",
    "            print(\"Initializing a directory called {} in current dir\".format(img_dir))\n",
    "            os.mkdir(img_dir)\n",
    "        img_fulldir = os.path.abspath(img_dir)\n",
    "        print(\"Snapshots are available in {}\".format(img_fulldir))\n",
    "        # check if the image name has proper extension\n",
    "        accepted_extensions = [\"png\", \"svg\", \"jpg\"]\n",
    "        if not any(x in img_basename for x in accepted_extensions):\n",
    "            raise ValueError(\"filename has to contain extension, one of jpg/svg/png\")\n",
    "        \n",
    "        self._img_fulldir = img_fulldir\n",
    "        self._img_basename = img_basename\n",
    "        self._img_id = img_init_id\n",
    "        \n",
    "    def send_cmds(self, cmds):\n",
    "        for cmd in cmds:\n",
    "            self._send_cmd(cmd)\n",
    "\n",
    "    def _send_cmd(self, cmd, timeout=20):\n",
    "        self.socket = socket.socket(socket.AF_INET, socket.SOCK_STREAM)\n",
    "        self.socket.connect((self.HOST, self.PORT))\n",
    "        \n",
    "        format_cmd = f'{cmd} \\n'.encode('utf-8')\n",
    "        self.verboseprint(f\"sending command: {format_cmd}\")\n",
    "        self.socket.send(format_cmd)\n",
    "\n",
    "        self.socket.settimeout(timeout) # if IGV times out, we recommend you restart IGV\n",
    "        self.verboseprint(self.socket.recv(4096))\n",
    "        \n",
    "        self.socket.close()\n",
    "\n",
    "    def new(self):\n",
    "        self._send_cmd('new')\n",
    "\n",
    "    def load(self, *urls):\n",
    "        print(urls)\n",
    "        # self._send(\"new \")\n",
    "        if len(urls) < 1:\n",
    "            raise ValueError(\"Please provide at least one URL to load\")\n",
    "        for url in urls:\n",
    "            self._send_cmd(\"load %s\" % url)\n",
    "            self._adjust_viewopts()\n",
    "\n",
    "    def goto(self, chromosome, start_pos, end_pos=None, expand=20):\n",
    "        \"\"\"\n",
    "        if only start_pos is supplied, we will expand view range by 'expand' parameter\n",
    "        \"\"\"\n",
    "\n",
    "        position = _parse_loc(chromosome, start_pos, end_pos, expand)\n",
    "        self._send_cmd( \"goto %s\" % position)\n",
    "        # make sure viewopts are preserved\n",
    "        self._adjust_viewopts()\n",
    "    \n",
    "    def goto_multiple(self, expand=20, **kwargs):\n",
    "        \"\"\"\n",
    "        goto_multiple(expand=20, chr1=<seqname of first panel>, chr2=<seqname of second panel>, pos1=<position of first panel>, pos2=<position of second panel>)\n",
    "        \"\"\"\n",
    "        chrpos = { \"chr\" : {}, \"pos\" : {} }\n",
    "        try:\n",
    "            for k, v in kwargs.items():\n",
    "                print(k, v)\n",
    "                arg = re.match(r'^(chr|pos)(\\d+)$', k)\n",
    "                if arg is not None:\n",
    "                    chrpos[arg.group(1)][arg.group(2)] = v\n",
    "                else:\n",
    "                    raise Exception\n",
    "            if chrpos[\"chr\"].keys() != chrpos[\"pos\"].keys():\n",
    "                raise Exception\n",
    "        except:\n",
    "            raise ValueError(\"When specifying multiple loci, arguments must be of the format chr1 = <chr1>, pos1 = <pos1>, ..., chrN = <chrN>, posN = <posN>\")\n",
    "\n",
    "        print(chrpos)\n",
    "        \n",
    "        positions = []\n",
    "        for (_, chrv), (_, posv) in zip(chrpos['chr'].items(), chrpos['pos'].items()):\n",
    "            positions.append(_parse_loc(chrv, posv, None, expand))\n",
    "        print(positions)\n",
    "        self._send_cmd(\"goto {}\".format(\" \".join(positions)))\n",
    "        # make sure viewopts are preserved\n",
    "        self._adjust_viewopts()\n",
    "\n",
    "    def snapshot(self): # snapshot as-is\n",
    "        assert self._img_fulldir is not None, \"Please set view optins with ir.set_saveopts() first\"\n",
    "        self._send_cmd( \"snapshotDirectory %s\" % self._img_fulldir)\n",
    "        newname = _append_id(self._img_basename, self._img_id)\n",
    "        self._send_cmd( \"snapshot %s\" % newname)\n",
    "        self._img_id += 1\n",
    "\n",
    "    def _adjust_viewopts(self):\n",
    "        self._send_cmd(f\"{self._view_type}\")\n",
    "        self._send_cmd(f\"sort {self._sort}\")\n",
    "\n"
   ]
  },
  {
   "cell_type": "code",
   "execution_count": 167,
   "id": "ee76e30d-1e76-41f5-accd-5a3dc6f737b8",
   "metadata": {},
   "outputs": [],
   "source": [
    "ir = igv_remote()"
   ]
  },
  {
   "cell_type": "code",
   "execution_count": 168,
   "id": "40d72d59-8e65-44a7-bd4f-a5ac3bed1f2d",
   "metadata": {},
   "outputs": [
    {
     "name": "stdout",
     "output_type": "stream",
     "text": [
      "Snapshots are available in /Users/cchu/Desktop/Methods/MutationReviewer/example_notebooks/test_igv_images\n"
     ]
    }
   ],
   "source": [
    "ir.set_saveopts(img_dir='test_igv_images', img_basename='test.png')"
   ]
  },
  {
   "cell_type": "markdown",
   "id": "65e6b2b8-435b-46b5-b0a0-87a9a90b4cc1",
   "metadata": {},
   "source": [
    "stress test"
   ]
  },
  {
   "cell_type": "code",
   "execution_count": 169,
   "id": "f131dc4f-44a1-43db-9b3b-e685e41c6fd3",
   "metadata": {},
   "outputs": [],
   "source": [
    "import time\n",
    "import tqdm"
   ]
  },
  {
   "cell_type": "code",
   "execution_count": 174,
   "id": "332a92de-fffd-405f-961b-15d286f439d8",
   "metadata": {
    "scrolled": true
   },
   "outputs": [
    {
     "name": "stderr",
     "output_type": "stream",
     "text": [
      "  0%|                                                                                                                                       | 0/10 [00:00<?, ?it/s]"
     ]
    },
    {
     "name": "stdout",
     "output_type": "stream",
     "text": [
      "sending command: b'new \\n'\n",
      "b'OK\\n'\n",
      "chr1 17\n",
      "chr2 17\n",
      "pos1 7569720\n",
      "pos2 7592868\n",
      "{'chr': {'1': 17, '2': 17}, 'pos': {'1': 7569720, '2': 7592868}}\n",
      "Position to view: 17:7,569,700-7,569,740\n",
      "Position to view: 17:7,592,848-7,592,888\n",
      "['17:7,569,700-7,569,740', '17:7,592,848-7,592,888']\n",
      "sending command: b'goto 17:7,569,700-7,569,740 17:7,592,848-7,592,888 \\n'\n",
      "b'OK\\n'\n",
      "sending command: b'collapse \\n'\n",
      "b'OK\\n'\n",
      "sending command: b'sort base \\n'\n",
      "b'OK\\n'\n",
      "('/Users/cchu/Desktop/Methods/MutationReviewer/1k_genomes/HG00096.17_7571739_7590808.bam',)\n",
      "sending command: b'load /Users/cchu/Desktop/Methods/MutationReviewer/1k_genomes/HG00096.17_7571739_7590808.bam \\n'\n",
      "b'OK\\n'\n",
      "sending command: b'collapse \\n'\n",
      "b'OK\\n'\n",
      "sending command: b'sort base \\n'\n",
      "b'OK\\n'\n",
      "('/Users/cchu/Desktop/Methods/MutationReviewer/1k_genomes/HG00097.17_7571739_7590808.bam',)\n",
      "sending command: b'load /Users/cchu/Desktop/Methods/MutationReviewer/1k_genomes/HG00097.17_7571739_7590808.bam \\n'\n",
      "b'OK\\n'\n",
      "sending command: b'collapse \\n'\n",
      "b'OK\\n'\n",
      "sending command: b'sort base \\n'\n",
      "b'OK\\n'\n",
      "sending command: b'snapshotDirectory /Users/cchu/Desktop/Methods/MutationReviewer/example_notebooks/test_igv_images \\n'\n",
      "b'OK\\n'\n",
      "sending command: b'snapshot test_7.png \\n'\n",
      "b'OK\\n'\n"
     ]
    },
    {
     "name": "stderr",
     "output_type": "stream",
     "text": [
      " 10%|████████████▋                                                                                                                  | 1/10 [00:01<00:10,  1.13s/it]"
     ]
    },
    {
     "name": "stdout",
     "output_type": "stream",
     "text": [
      "sending command: b'new \\n'\n",
      "b'OK\\n'\n",
      "chr1 17\n",
      "chr2 17\n",
      "pos1 7569720\n",
      "pos2 7592868\n",
      "{'chr': {'1': 17, '2': 17}, 'pos': {'1': 7569720, '2': 7592868}}\n",
      "Position to view: 17:7,569,700-7,569,740\n",
      "Position to view: 17:7,592,848-7,592,888\n",
      "['17:7,569,700-7,569,740', '17:7,592,848-7,592,888']\n",
      "sending command: b'goto 17:7,569,700-7,569,740 17:7,592,848-7,592,888 \\n'\n",
      "b'OK\\n'\n",
      "sending command: b'collapse \\n'\n",
      "b'OK\\n'\n",
      "sending command: b'sort base \\n'\n",
      "b'OK\\n'\n",
      "('/Users/cchu/Desktop/Methods/MutationReviewer/1k_genomes/HG00096.17_7571739_7590808.bam',)\n",
      "sending command: b'load /Users/cchu/Desktop/Methods/MutationReviewer/1k_genomes/HG00096.17_7571739_7590808.bam \\n'\n",
      "b'OK\\n'\n",
      "sending command: b'collapse \\n'\n",
      "b'OK\\n'\n",
      "sending command: b'sort base \\n'\n",
      "b'OK\\n'\n",
      "('/Users/cchu/Desktop/Methods/MutationReviewer/1k_genomes/HG00097.17_7571739_7590808.bam',)\n",
      "sending command: b'load /Users/cchu/Desktop/Methods/MutationReviewer/1k_genomes/HG00097.17_7571739_7590808.bam \\n'\n",
      "b'OK\\n'\n",
      "sending command: b'collapse \\n'\n",
      "b'OK\\n'\n",
      "sending command: b'sort base \\n'\n",
      "b'OK\\n'\n",
      "sending command: b'snapshotDirectory /Users/cchu/Desktop/Methods/MutationReviewer/example_notebooks/test_igv_images \\n'\n",
      "b'OK\\n'\n",
      "sending command: b'snapshot test_8.png \\n'\n",
      "b'OK\\n'\n"
     ]
    },
    {
     "name": "stderr",
     "output_type": "stream",
     "text": [
      " 20%|█████████████████████████▍                                                                                                     | 2/10 [00:02<00:09,  1.13s/it]"
     ]
    },
    {
     "name": "stdout",
     "output_type": "stream",
     "text": [
      "sending command: b'new \\n'\n",
      "b'OK\\n'\n",
      "chr1 17\n",
      "chr2 17\n",
      "pos1 7569720\n",
      "pos2 7592868\n",
      "{'chr': {'1': 17, '2': 17}, 'pos': {'1': 7569720, '2': 7592868}}\n",
      "Position to view: 17:7,569,700-7,569,740\n",
      "Position to view: 17:7,592,848-7,592,888\n",
      "['17:7,569,700-7,569,740', '17:7,592,848-7,592,888']\n",
      "sending command: b'goto 17:7,569,700-7,569,740 17:7,592,848-7,592,888 \\n'\n",
      "b'OK\\n'\n",
      "sending command: b'collapse \\n'\n",
      "b'OK\\n'\n",
      "sending command: b'sort base \\n'\n",
      "b'OK\\n'\n",
      "('/Users/cchu/Desktop/Methods/MutationReviewer/1k_genomes/HG00096.17_7571739_7590808.bam',)\n",
      "sending command: b'load /Users/cchu/Desktop/Methods/MutationReviewer/1k_genomes/HG00096.17_7571739_7590808.bam \\n'\n",
      "b'OK\\n'\n",
      "sending command: b'collapse \\n'\n",
      "b'OK\\n'\n",
      "sending command: b'sort base \\n'\n",
      "b'OK\\n'\n",
      "('/Users/cchu/Desktop/Methods/MutationReviewer/1k_genomes/HG00097.17_7571739_7590808.bam',)\n",
      "sending command: b'load /Users/cchu/Desktop/Methods/MutationReviewer/1k_genomes/HG00097.17_7571739_7590808.bam \\n'\n",
      "b'OK\\n'\n",
      "sending command: b'collapse \\n'\n",
      "b'OK\\n'\n",
      "sending command: b'sort base \\n'\n",
      "b'OK\\n'\n",
      "sending command: b'snapshotDirectory /Users/cchu/Desktop/Methods/MutationReviewer/example_notebooks/test_igv_images \\n'\n",
      "b'OK\\n'\n",
      "sending command: b'snapshot test_9.png \\n'\n",
      "b'OK\\n'\n"
     ]
    },
    {
     "name": "stderr",
     "output_type": "stream",
     "text": [
      " 30%|██████████████████████████████████████                                                                                         | 3/10 [00:03<00:07,  1.13s/it]"
     ]
    },
    {
     "name": "stdout",
     "output_type": "stream",
     "text": [
      "sending command: b'new \\n'\n",
      "b'OK\\n'\n",
      "chr1 17\n",
      "chr2 17\n",
      "pos1 7569720\n",
      "pos2 7592868\n",
      "{'chr': {'1': 17, '2': 17}, 'pos': {'1': 7569720, '2': 7592868}}\n",
      "Position to view: 17:7,569,700-7,569,740\n",
      "Position to view: 17:7,592,848-7,592,888\n",
      "['17:7,569,700-7,569,740', '17:7,592,848-7,592,888']\n",
      "sending command: b'goto 17:7,569,700-7,569,740 17:7,592,848-7,592,888 \\n'\n",
      "b'OK\\n'\n",
      "sending command: b'collapse \\n'\n",
      "b'OK\\n'\n",
      "sending command: b'sort base \\n'\n",
      "b'OK\\n'\n",
      "('/Users/cchu/Desktop/Methods/MutationReviewer/1k_genomes/HG00096.17_7571739_7590808.bam',)\n",
      "sending command: b'load /Users/cchu/Desktop/Methods/MutationReviewer/1k_genomes/HG00096.17_7571739_7590808.bam \\n'\n",
      "b'OK\\n'\n",
      "sending command: b'collapse \\n'\n",
      "b'OK\\n'\n",
      "sending command: b'sort base \\n'\n",
      "b'OK\\n'\n",
      "('/Users/cchu/Desktop/Methods/MutationReviewer/1k_genomes/HG00097.17_7571739_7590808.bam',)\n",
      "sending command: b'load /Users/cchu/Desktop/Methods/MutationReviewer/1k_genomes/HG00097.17_7571739_7590808.bam \\n'\n",
      "b'OK\\n'\n",
      "sending command: b'collapse \\n'\n",
      "b'OK\\n'\n",
      "sending command: b'sort base \\n'\n",
      "b'OK\\n'\n",
      "sending command: b'snapshotDirectory /Users/cchu/Desktop/Methods/MutationReviewer/example_notebooks/test_igv_images \\n'\n",
      "b'OK\\n'\n",
      "sending command: b'snapshot test_10.png \\n'\n",
      "b'OK\\n'\n"
     ]
    },
    {
     "name": "stderr",
     "output_type": "stream",
     "text": [
      " 40%|██████████████████████████████████████████████████▊                                                                            | 4/10 [00:04<00:06,  1.14s/it]"
     ]
    },
    {
     "name": "stdout",
     "output_type": "stream",
     "text": [
      "sending command: b'new \\n'\n",
      "b'OK\\n'\n",
      "chr1 17\n",
      "chr2 17\n",
      "pos1 7569720\n",
      "pos2 7592868\n",
      "{'chr': {'1': 17, '2': 17}, 'pos': {'1': 7569720, '2': 7592868}}\n",
      "Position to view: 17:7,569,700-7,569,740\n",
      "Position to view: 17:7,592,848-7,592,888\n",
      "['17:7,569,700-7,569,740', '17:7,592,848-7,592,888']\n",
      "sending command: b'goto 17:7,569,700-7,569,740 17:7,592,848-7,592,888 \\n'\n",
      "b'OK\\n'\n",
      "sending command: b'collapse \\n'\n",
      "b'OK\\n'\n",
      "sending command: b'sort base \\n'\n",
      "b'OK\\n'\n",
      "('/Users/cchu/Desktop/Methods/MutationReviewer/1k_genomes/HG00096.17_7571739_7590808.bam',)\n",
      "sending command: b'load /Users/cchu/Desktop/Methods/MutationReviewer/1k_genomes/HG00096.17_7571739_7590808.bam \\n'\n",
      "b'OK\\n'\n",
      "sending command: b'collapse \\n'\n",
      "b'OK\\n'\n",
      "sending command: b'sort base \\n'\n",
      "b'OK\\n'\n",
      "('/Users/cchu/Desktop/Methods/MutationReviewer/1k_genomes/HG00097.17_7571739_7590808.bam',)\n",
      "sending command: b'load /Users/cchu/Desktop/Methods/MutationReviewer/1k_genomes/HG00097.17_7571739_7590808.bam \\n'\n",
      "b'OK\\n'\n",
      "sending command: b'collapse \\n'\n",
      "b'OK\\n'\n",
      "sending command: b'sort base \\n'\n",
      "b'OK\\n'\n",
      "sending command: b'snapshotDirectory /Users/cchu/Desktop/Methods/MutationReviewer/example_notebooks/test_igv_images \\n'\n",
      "b'OK\\n'\n",
      "sending command: b'snapshot test_11.png \\n'\n",
      "b'OK\\n'\n"
     ]
    },
    {
     "name": "stderr",
     "output_type": "stream",
     "text": [
      " 50%|███████████████████████████████████████████████████████████████▌                                                               | 5/10 [00:05<00:05,  1.13s/it]"
     ]
    },
    {
     "name": "stdout",
     "output_type": "stream",
     "text": [
      "sending command: b'new \\n'\n",
      "b'OK\\n'\n",
      "chr1 17\n",
      "chr2 17\n",
      "pos1 7569720\n",
      "pos2 7592868\n",
      "{'chr': {'1': 17, '2': 17}, 'pos': {'1': 7569720, '2': 7592868}}\n",
      "Position to view: 17:7,569,700-7,569,740\n",
      "Position to view: 17:7,592,848-7,592,888\n",
      "['17:7,569,700-7,569,740', '17:7,592,848-7,592,888']\n",
      "sending command: b'goto 17:7,569,700-7,569,740 17:7,592,848-7,592,888 \\n'\n",
      "b'OK\\n'\n",
      "sending command: b'collapse \\n'\n",
      "b'OK\\n'\n",
      "sending command: b'sort base \\n'\n",
      "b'OK\\n'\n",
      "('/Users/cchu/Desktop/Methods/MutationReviewer/1k_genomes/HG00096.17_7571739_7590808.bam',)\n",
      "sending command: b'load /Users/cchu/Desktop/Methods/MutationReviewer/1k_genomes/HG00096.17_7571739_7590808.bam \\n'\n",
      "b'OK\\n'\n",
      "sending command: b'collapse \\n'\n",
      "b'OK\\n'\n",
      "sending command: b'sort base \\n'\n",
      "b'OK\\n'\n",
      "('/Users/cchu/Desktop/Methods/MutationReviewer/1k_genomes/HG00097.17_7571739_7590808.bam',)\n",
      "sending command: b'load /Users/cchu/Desktop/Methods/MutationReviewer/1k_genomes/HG00097.17_7571739_7590808.bam \\n'\n",
      "b'OK\\n'\n",
      "sending command: b'collapse \\n'\n",
      "b'OK\\n'\n",
      "sending command: b'sort base \\n'\n",
      "b'OK\\n'\n",
      "sending command: b'snapshotDirectory /Users/cchu/Desktop/Methods/MutationReviewer/example_notebooks/test_igv_images \\n'\n",
      "b'OK\\n'\n",
      "sending command: b'snapshot test_12.png \\n'\n",
      "b'OK\\n'\n"
     ]
    },
    {
     "name": "stderr",
     "output_type": "stream",
     "text": [
      " 60%|████████████████████████████████████████████████████████████████████████████▏                                                  | 6/10 [00:06<00:04,  1.13s/it]"
     ]
    },
    {
     "name": "stdout",
     "output_type": "stream",
     "text": [
      "sending command: b'new \\n'\n",
      "b'OK\\n'\n",
      "chr1 17\n",
      "chr2 17\n",
      "pos1 7569720\n",
      "pos2 7592868\n",
      "{'chr': {'1': 17, '2': 17}, 'pos': {'1': 7569720, '2': 7592868}}\n",
      "Position to view: 17:7,569,700-7,569,740\n",
      "Position to view: 17:7,592,848-7,592,888\n",
      "['17:7,569,700-7,569,740', '17:7,592,848-7,592,888']\n",
      "sending command: b'goto 17:7,569,700-7,569,740 17:7,592,848-7,592,888 \\n'\n",
      "b'OK\\n'\n",
      "sending command: b'collapse \\n'\n",
      "b'OK\\n'\n",
      "sending command: b'sort base \\n'\n",
      "b'OK\\n'\n",
      "('/Users/cchu/Desktop/Methods/MutationReviewer/1k_genomes/HG00096.17_7571739_7590808.bam',)\n",
      "sending command: b'load /Users/cchu/Desktop/Methods/MutationReviewer/1k_genomes/HG00096.17_7571739_7590808.bam \\n'\n",
      "b'OK\\n'\n",
      "sending command: b'collapse \\n'\n",
      "b'OK\\n'\n",
      "sending command: b'sort base \\n'\n",
      "b'OK\\n'\n",
      "('/Users/cchu/Desktop/Methods/MutationReviewer/1k_genomes/HG00097.17_7571739_7590808.bam',)\n",
      "sending command: b'load /Users/cchu/Desktop/Methods/MutationReviewer/1k_genomes/HG00097.17_7571739_7590808.bam \\n'\n",
      "b'OK\\n'\n",
      "sending command: b'collapse \\n'\n",
      "b'OK\\n'\n",
      "sending command: b'sort base \\n'\n",
      "b'OK\\n'\n",
      "sending command: b'snapshotDirectory /Users/cchu/Desktop/Methods/MutationReviewer/example_notebooks/test_igv_images \\n'\n",
      "b'OK\\n'\n",
      "sending command: b'snapshot test_13.png \\n'\n",
      "b'OK\\n'\n"
     ]
    },
    {
     "name": "stderr",
     "output_type": "stream",
     "text": [
      " 70%|████████████████████████████████████████████████████████████████████████████████████████▉                                      | 7/10 [00:07<00:03,  1.13s/it]"
     ]
    },
    {
     "name": "stdout",
     "output_type": "stream",
     "text": [
      "sending command: b'new \\n'\n",
      "b'OK\\n'\n",
      "chr1 17\n",
      "chr2 17\n",
      "pos1 7569720\n",
      "pos2 7592868\n",
      "{'chr': {'1': 17, '2': 17}, 'pos': {'1': 7569720, '2': 7592868}}\n",
      "Position to view: 17:7,569,700-7,569,740\n",
      "Position to view: 17:7,592,848-7,592,888\n",
      "['17:7,569,700-7,569,740', '17:7,592,848-7,592,888']\n",
      "sending command: b'goto 17:7,569,700-7,569,740 17:7,592,848-7,592,888 \\n'\n",
      "b'OK\\n'\n",
      "sending command: b'collapse \\n'\n",
      "b'OK\\n'\n",
      "sending command: b'sort base \\n'\n",
      "b'OK\\n'\n",
      "('/Users/cchu/Desktop/Methods/MutationReviewer/1k_genomes/HG00096.17_7571739_7590808.bam',)\n",
      "sending command: b'load /Users/cchu/Desktop/Methods/MutationReviewer/1k_genomes/HG00096.17_7571739_7590808.bam \\n'\n",
      "b'OK\\n'\n",
      "sending command: b'collapse \\n'\n",
      "b'OK\\n'\n",
      "sending command: b'sort base \\n'\n",
      "b'OK\\n'\n",
      "('/Users/cchu/Desktop/Methods/MutationReviewer/1k_genomes/HG00097.17_7571739_7590808.bam',)\n",
      "sending command: b'load /Users/cchu/Desktop/Methods/MutationReviewer/1k_genomes/HG00097.17_7571739_7590808.bam \\n'\n",
      "b'OK\\n'\n",
      "sending command: b'collapse \\n'\n",
      "b'OK\\n'\n",
      "sending command: b'sort base \\n'\n",
      "b'OK\\n'\n",
      "sending command: b'snapshotDirectory /Users/cchu/Desktop/Methods/MutationReviewer/example_notebooks/test_igv_images \\n'\n",
      "b'OK\\n'\n",
      "sending command: b'snapshot test_14.png \\n'\n",
      "b'OK\\n'\n"
     ]
    },
    {
     "name": "stderr",
     "output_type": "stream",
     "text": [
      " 80%|█████████████████████████████████████████████████████████████████████████████████████████████████████▌                         | 8/10 [00:09<00:02,  1.13s/it]"
     ]
    },
    {
     "name": "stdout",
     "output_type": "stream",
     "text": [
      "sending command: b'new \\n'\n",
      "b'OK\\n'\n",
      "chr1 17\n",
      "chr2 17\n",
      "pos1 7569720\n",
      "pos2 7592868\n",
      "{'chr': {'1': 17, '2': 17}, 'pos': {'1': 7569720, '2': 7592868}}\n",
      "Position to view: 17:7,569,700-7,569,740\n",
      "Position to view: 17:7,592,848-7,592,888\n",
      "['17:7,569,700-7,569,740', '17:7,592,848-7,592,888']\n",
      "sending command: b'goto 17:7,569,700-7,569,740 17:7,592,848-7,592,888 \\n'\n",
      "b'OK\\n'\n",
      "sending command: b'collapse \\n'\n",
      "b'OK\\n'\n",
      "sending command: b'sort base \\n'\n",
      "b'OK\\n'\n",
      "('/Users/cchu/Desktop/Methods/MutationReviewer/1k_genomes/HG00096.17_7571739_7590808.bam',)\n",
      "sending command: b'load /Users/cchu/Desktop/Methods/MutationReviewer/1k_genomes/HG00096.17_7571739_7590808.bam \\n'\n",
      "b'OK\\n'\n",
      "sending command: b'collapse \\n'\n",
      "b'OK\\n'\n",
      "sending command: b'sort base \\n'\n",
      "b'OK\\n'\n",
      "('/Users/cchu/Desktop/Methods/MutationReviewer/1k_genomes/HG00097.17_7571739_7590808.bam',)\n",
      "sending command: b'load /Users/cchu/Desktop/Methods/MutationReviewer/1k_genomes/HG00097.17_7571739_7590808.bam \\n'\n",
      "b'OK\\n'\n",
      "sending command: b'collapse \\n'\n",
      "b'OK\\n'\n",
      "sending command: b'sort base \\n'\n",
      "b'OK\\n'\n",
      "sending command: b'snapshotDirectory /Users/cchu/Desktop/Methods/MutationReviewer/example_notebooks/test_igv_images \\n'\n",
      "b'OK\\n'\n",
      "sending command: b'snapshot test_15.png \\n'\n",
      "b'OK\\n'\n"
     ]
    },
    {
     "name": "stderr",
     "output_type": "stream",
     "text": [
      " 90%|██████████████████████████████████████████████████████████████████████████████████████████████████████████████████▎            | 9/10 [00:10<00:01,  1.12s/it]"
     ]
    },
    {
     "name": "stdout",
     "output_type": "stream",
     "text": [
      "sending command: b'new \\n'\n",
      "b'OK\\n'\n",
      "chr1 17\n",
      "chr2 17\n",
      "pos1 7569720\n",
      "pos2 7592868\n",
      "{'chr': {'1': 17, '2': 17}, 'pos': {'1': 7569720, '2': 7592868}}\n",
      "Position to view: 17:7,569,700-7,569,740\n",
      "Position to view: 17:7,592,848-7,592,888\n",
      "['17:7,569,700-7,569,740', '17:7,592,848-7,592,888']\n",
      "sending command: b'goto 17:7,569,700-7,569,740 17:7,592,848-7,592,888 \\n'\n",
      "b'OK\\n'\n",
      "sending command: b'collapse \\n'\n",
      "b'OK\\n'\n",
      "sending command: b'sort base \\n'\n",
      "b'OK\\n'\n",
      "('/Users/cchu/Desktop/Methods/MutationReviewer/1k_genomes/HG00096.17_7571739_7590808.bam',)\n",
      "sending command: b'load /Users/cchu/Desktop/Methods/MutationReviewer/1k_genomes/HG00096.17_7571739_7590808.bam \\n'\n",
      "b'OK\\n'\n",
      "sending command: b'collapse \\n'\n",
      "b'OK\\n'\n",
      "sending command: b'sort base \\n'\n",
      "b'OK\\n'\n",
      "('/Users/cchu/Desktop/Methods/MutationReviewer/1k_genomes/HG00097.17_7571739_7590808.bam',)\n",
      "sending command: b'load /Users/cchu/Desktop/Methods/MutationReviewer/1k_genomes/HG00097.17_7571739_7590808.bam \\n'\n",
      "b'OK\\n'\n",
      "sending command: b'collapse \\n'\n",
      "b'OK\\n'\n",
      "sending command: b'sort base \\n'\n",
      "b'OK\\n'\n",
      "sending command: b'snapshotDirectory /Users/cchu/Desktop/Methods/MutationReviewer/example_notebooks/test_igv_images \\n'\n",
      "b'OK\\n'\n",
      "sending command: b'snapshot test_16.png \\n'\n",
      "b'OK\\n'\n"
     ]
    },
    {
     "name": "stderr",
     "output_type": "stream",
     "text": [
      "100%|██████████████████████████████████████████████████████████████████████████████████████████████████████████████████████████████| 10/10 [00:11<00:00,  1.13s/it]\n"
     ]
    }
   ],
   "source": [
    "for i in tqdm.tqdm(range(10)):\n",
    "    ir.new()\n",
    "    # ir.goto(chromosome, start_pos, end_pos, expand=20)\n",
    "    ir.goto_multiple(**dict(chr1=chromosome, chr2=chromosome, pos1=start_pos, pos2=end_pos))\n",
    "    ir.load(bam_paths_df.iloc[0][\"local_bam_path\"])\n",
    "    ir.load(bam_paths_df.iloc[1][\"local_bam_path\"])\n",
    "    ir.snapshot()\n",
    "    time.sleep(1)"
   ]
  },
  {
   "cell_type": "markdown",
   "id": "6cdf0426-6a18-4698-a48c-b7e9c2b07b99",
   "metadata": {},
   "source": [
    "# test with gsurls"
   ]
  },
  {
   "cell_type": "code",
   "execution_count": 177,
   "id": "55b52437-4a09-4a5e-b537-e835a17da2f1",
   "metadata": {},
   "outputs": [],
   "source": [
    "import dalmatian"
   ]
  },
  {
   "cell_type": "code",
   "execution_count": 178,
   "id": "952f5e45-2df6-434f-a0e7-8d9b77360c6c",
   "metadata": {},
   "outputs": [],
   "source": [
    "wm = dalmatian.WorkspaceManager('broad-getzlab-ibm-taml-t/Ebert-Sperling_MDS-AML-pran-5_Claudia-v2')\n",
    "samples_df = wm.get_samples()"
   ]
  },
  {
   "cell_type": "code",
   "execution_count": 189,
   "id": "56b27730-21cf-4ee7-a5da-3d14aad10011",
   "metadata": {},
   "outputs": [
    {
     "name": "stdout",
     "output_type": "stream",
     "text": [
      "Snapshots are available in /Users/cchu/Desktop/Methods/MutationReviewer/example_notebooks/test_igv_images\n"
     ]
    }
   ],
   "source": [
    "ir = igv_remote()\n",
    "ir.set_saveopts(img_dir='test_igv_images', img_basename='test.png')"
   ]
  },
  {
   "cell_type": "code",
   "execution_count": 191,
   "id": "e4aa5c56-e37c-4a46-b5b3-17da73f502e3",
   "metadata": {
    "scrolled": true
   },
   "outputs": [
    {
     "name": "stderr",
     "output_type": "stream",
     "text": [
      "  0%|                                                                                                                                       | 0/10 [00:00<?, ?it/s]"
     ]
    },
    {
     "name": "stdout",
     "output_type": "stream",
     "text": [
      "sending command: b'new \\n'\n",
      "b'OK\\n'\n",
      "chr1 17\n",
      "chr2 17\n",
      "pos1 7569720\n",
      "pos2 7592868\n",
      "{'chr': {'1': 17, '2': 17}, 'pos': {'1': 7569720, '2': 7592868}}\n",
      "Position to view: 17:7,569,700-7,569,740\n",
      "Position to view: 17:7,592,848-7,592,888\n",
      "['17:7,569,700-7,569,740', '17:7,592,848-7,592,888']\n",
      "sending command: b'goto 17:7,569,700-7,569,740 17:7,592,848-7,592,888 \\n'\n",
      "b'OK\\n'\n",
      "sending command: b'collapse \\n'\n",
      "b'OK\\n'\n",
      "sending command: b'sort base \\n'\n",
      "b'OK\\n'\n",
      "('gs://fc-02e4b730-cb29-48bb-9c3b-562e075457fe/Getz_Ebert_IBM_13-583_Exomes_10TNAsamples_November2020/RP-1886/Exome/022613_PU_3426/v2/022613_PU_3426.bam',)\n",
      "sending command: b'load gs://fc-02e4b730-cb29-48bb-9c3b-562e075457fe/Getz_Ebert_IBM_13-583_Exomes_10TNAsamples_November2020/RP-1886/Exome/022613_PU_3426/v2/022613_PU_3426.bam \\n'\n",
      "b'OK\\n'\n",
      "sending command: b'collapse \\n'\n",
      "b'OK\\n'\n",
      "sending command: b'sort base \\n'\n",
      "b'OK\\n'\n",
      "('gs://fc-02e4b730-cb29-48bb-9c3b-562e075457fe/Getz_Ebert_IBM_13-583_Exomes_10TNAsamples_November2020/RP-1886/Exome/046434_XQ_3239/v2/046434_XQ_3239.bam',)\n",
      "sending command: b'load gs://fc-02e4b730-cb29-48bb-9c3b-562e075457fe/Getz_Ebert_IBM_13-583_Exomes_10TNAsamples_November2020/RP-1886/Exome/046434_XQ_3239/v2/046434_XQ_3239.bam \\n'\n",
      "b'OK\\n'\n",
      "sending command: b'collapse \\n'\n",
      "b'OK\\n'\n",
      "sending command: b'sort base \\n'\n",
      "b'OK\\n'\n",
      "sending command: b'snapshotDirectory /Users/cchu/Desktop/Methods/MutationReviewer/example_notebooks/test_igv_images \\n'\n",
      "b'OK\\n'\n",
      "sending command: b'snapshot test_0.png \\n'\n",
      "b'OK\\n'\n"
     ]
    },
    {
     "name": "stderr",
     "output_type": "stream",
     "text": [
      " 10%|████████████▋                                                                                                                  | 1/10 [00:09<01:21,  9.10s/it]"
     ]
    },
    {
     "name": "stdout",
     "output_type": "stream",
     "text": [
      "sending command: b'new \\n'\n",
      "b'OK\\n'\n",
      "chr1 17\n",
      "chr2 17\n",
      "pos1 7569720\n",
      "pos2 7592868\n",
      "{'chr': {'1': 17, '2': 17}, 'pos': {'1': 7569720, '2': 7592868}}\n",
      "Position to view: 17:7,569,700-7,569,740\n",
      "Position to view: 17:7,592,848-7,592,888\n",
      "['17:7,569,700-7,569,740', '17:7,592,848-7,592,888']\n",
      "sending command: b'goto 17:7,569,700-7,569,740 17:7,592,848-7,592,888 \\n'\n",
      "b'OK\\n'\n",
      "sending command: b'collapse \\n'\n",
      "b'OK\\n'\n",
      "sending command: b'sort base \\n'\n",
      "b'OK\\n'\n",
      "('gs://fc-02e4b730-cb29-48bb-9c3b-562e075457fe/Getz_Ebert_IBM_13-583_Exomes_10TNAsamples_November2020/RP-1886/Exome/022613_PU_3426/v2/022613_PU_3426.bam',)\n",
      "sending command: b'load gs://fc-02e4b730-cb29-48bb-9c3b-562e075457fe/Getz_Ebert_IBM_13-583_Exomes_10TNAsamples_November2020/RP-1886/Exome/022613_PU_3426/v2/022613_PU_3426.bam \\n'\n",
      "b'OK\\n'\n",
      "sending command: b'collapse \\n'\n",
      "b'OK\\n'\n",
      "sending command: b'sort base \\n'\n",
      "b'OK\\n'\n",
      "('gs://fc-02e4b730-cb29-48bb-9c3b-562e075457fe/Getz_Ebert_IBM_13-583_Exomes_10TNAsamples_November2020/RP-1886/Exome/046434_XQ_3239/v2/046434_XQ_3239.bam',)\n",
      "sending command: b'load gs://fc-02e4b730-cb29-48bb-9c3b-562e075457fe/Getz_Ebert_IBM_13-583_Exomes_10TNAsamples_November2020/RP-1886/Exome/046434_XQ_3239/v2/046434_XQ_3239.bam \\n'\n",
      "b'OK\\n'\n",
      "sending command: b'collapse \\n'\n",
      "b'OK\\n'\n",
      "sending command: b'sort base \\n'\n",
      "b'OK\\n'\n",
      "sending command: b'snapshotDirectory /Users/cchu/Desktop/Methods/MutationReviewer/example_notebooks/test_igv_images \\n'\n",
      "b'OK\\n'\n",
      "sending command: b'snapshot test_1.png \\n'\n",
      "b'OK\\n'\n"
     ]
    },
    {
     "name": "stderr",
     "output_type": "stream",
     "text": [
      " 20%|█████████████████████████▍                                                                                                     | 2/10 [00:15<01:01,  7.72s/it]"
     ]
    },
    {
     "name": "stdout",
     "output_type": "stream",
     "text": [
      "sending command: b'new \\n'\n",
      "b'OK\\n'\n",
      "chr1 17\n",
      "chr2 17\n",
      "pos1 7569720\n",
      "pos2 7592868\n",
      "{'chr': {'1': 17, '2': 17}, 'pos': {'1': 7569720, '2': 7592868}}\n",
      "Position to view: 17:7,569,700-7,569,740\n",
      "Position to view: 17:7,592,848-7,592,888\n",
      "['17:7,569,700-7,569,740', '17:7,592,848-7,592,888']\n",
      "sending command: b'goto 17:7,569,700-7,569,740 17:7,592,848-7,592,888 \\n'\n",
      "b'OK\\n'\n",
      "sending command: b'collapse \\n'\n",
      "b'OK\\n'\n",
      "sending command: b'sort base \\n'\n",
      "b'OK\\n'\n",
      "('gs://fc-02e4b730-cb29-48bb-9c3b-562e075457fe/Getz_Ebert_IBM_13-583_Exomes_10TNAsamples_November2020/RP-1886/Exome/022613_PU_3426/v2/022613_PU_3426.bam',)\n",
      "sending command: b'load gs://fc-02e4b730-cb29-48bb-9c3b-562e075457fe/Getz_Ebert_IBM_13-583_Exomes_10TNAsamples_November2020/RP-1886/Exome/022613_PU_3426/v2/022613_PU_3426.bam \\n'\n",
      "b'OK\\n'\n",
      "sending command: b'collapse \\n'\n",
      "b'OK\\n'\n",
      "sending command: b'sort base \\n'\n",
      "b'OK\\n'\n",
      "('gs://fc-02e4b730-cb29-48bb-9c3b-562e075457fe/Getz_Ebert_IBM_13-583_Exomes_10TNAsamples_November2020/RP-1886/Exome/046434_XQ_3239/v2/046434_XQ_3239.bam',)\n",
      "sending command: b'load gs://fc-02e4b730-cb29-48bb-9c3b-562e075457fe/Getz_Ebert_IBM_13-583_Exomes_10TNAsamples_November2020/RP-1886/Exome/046434_XQ_3239/v2/046434_XQ_3239.bam \\n'\n",
      "b'OK\\n'\n",
      "sending command: b'collapse \\n'\n",
      "b'OK\\n'\n",
      "sending command: b'sort base \\n'\n",
      "b'OK\\n'\n",
      "sending command: b'snapshotDirectory /Users/cchu/Desktop/Methods/MutationReviewer/example_notebooks/test_igv_images \\n'\n",
      "b'OK\\n'\n",
      "sending command: b'snapshot test_2.png \\n'\n",
      "b'OK\\n'\n"
     ]
    },
    {
     "name": "stderr",
     "output_type": "stream",
     "text": [
      " 30%|██████████████████████████████████████                                                                                         | 3/10 [00:22<00:50,  7.22s/it]"
     ]
    },
    {
     "name": "stdout",
     "output_type": "stream",
     "text": [
      "sending command: b'new \\n'\n",
      "b'OK\\n'\n",
      "chr1 17\n",
      "chr2 17\n",
      "pos1 7569720\n",
      "pos2 7592868\n",
      "{'chr': {'1': 17, '2': 17}, 'pos': {'1': 7569720, '2': 7592868}}\n",
      "Position to view: 17:7,569,700-7,569,740\n",
      "Position to view: 17:7,592,848-7,592,888\n",
      "['17:7,569,700-7,569,740', '17:7,592,848-7,592,888']\n",
      "sending command: b'goto 17:7,569,700-7,569,740 17:7,592,848-7,592,888 \\n'\n",
      "b'OK\\n'\n",
      "sending command: b'collapse \\n'\n",
      "b'OK\\n'\n",
      "sending command: b'sort base \\n'\n",
      "b'OK\\n'\n",
      "('gs://fc-02e4b730-cb29-48bb-9c3b-562e075457fe/Getz_Ebert_IBM_13-583_Exomes_10TNAsamples_November2020/RP-1886/Exome/022613_PU_3426/v2/022613_PU_3426.bam',)\n",
      "sending command: b'load gs://fc-02e4b730-cb29-48bb-9c3b-562e075457fe/Getz_Ebert_IBM_13-583_Exomes_10TNAsamples_November2020/RP-1886/Exome/022613_PU_3426/v2/022613_PU_3426.bam \\n'\n",
      "b'OK\\n'\n",
      "sending command: b'collapse \\n'\n",
      "b'OK\\n'\n",
      "sending command: b'sort base \\n'\n",
      "b'OK\\n'\n",
      "('gs://fc-02e4b730-cb29-48bb-9c3b-562e075457fe/Getz_Ebert_IBM_13-583_Exomes_10TNAsamples_November2020/RP-1886/Exome/046434_XQ_3239/v2/046434_XQ_3239.bam',)\n",
      "sending command: b'load gs://fc-02e4b730-cb29-48bb-9c3b-562e075457fe/Getz_Ebert_IBM_13-583_Exomes_10TNAsamples_November2020/RP-1886/Exome/046434_XQ_3239/v2/046434_XQ_3239.bam \\n'\n",
      "b'OK\\n'\n",
      "sending command: b'collapse \\n'\n",
      "b'OK\\n'\n",
      "sending command: b'sort base \\n'\n",
      "b'OK\\n'\n",
      "sending command: b'snapshotDirectory /Users/cchu/Desktop/Methods/MutationReviewer/example_notebooks/test_igv_images \\n'\n",
      "b'OK\\n'\n",
      "sending command: b'snapshot test_3.png \\n'\n",
      "b'OK\\n'\n"
     ]
    },
    {
     "name": "stderr",
     "output_type": "stream",
     "text": [
      " 40%|██████████████████████████████████████████████████▊                                                                            | 4/10 [00:29<00:42,  7.03s/it]"
     ]
    },
    {
     "name": "stdout",
     "output_type": "stream",
     "text": [
      "sending command: b'new \\n'\n",
      "b'OK\\n'\n",
      "chr1 17\n",
      "chr2 17\n",
      "pos1 7569720\n",
      "pos2 7592868\n",
      "{'chr': {'1': 17, '2': 17}, 'pos': {'1': 7569720, '2': 7592868}}\n",
      "Position to view: 17:7,569,700-7,569,740\n",
      "Position to view: 17:7,592,848-7,592,888\n",
      "['17:7,569,700-7,569,740', '17:7,592,848-7,592,888']\n",
      "sending command: b'goto 17:7,569,700-7,569,740 17:7,592,848-7,592,888 \\n'\n",
      "b'OK\\n'\n",
      "sending command: b'collapse \\n'\n",
      "b'OK\\n'\n",
      "sending command: b'sort base \\n'\n",
      "b'OK\\n'\n",
      "('gs://fc-02e4b730-cb29-48bb-9c3b-562e075457fe/Getz_Ebert_IBM_13-583_Exomes_10TNAsamples_November2020/RP-1886/Exome/022613_PU_3426/v2/022613_PU_3426.bam',)\n",
      "sending command: b'load gs://fc-02e4b730-cb29-48bb-9c3b-562e075457fe/Getz_Ebert_IBM_13-583_Exomes_10TNAsamples_November2020/RP-1886/Exome/022613_PU_3426/v2/022613_PU_3426.bam \\n'\n",
      "b'OK\\n'\n",
      "sending command: b'collapse \\n'\n",
      "b'OK\\n'\n",
      "sending command: b'sort base \\n'\n",
      "b'OK\\n'\n",
      "('gs://fc-02e4b730-cb29-48bb-9c3b-562e075457fe/Getz_Ebert_IBM_13-583_Exomes_10TNAsamples_November2020/RP-1886/Exome/046434_XQ_3239/v2/046434_XQ_3239.bam',)\n",
      "sending command: b'load gs://fc-02e4b730-cb29-48bb-9c3b-562e075457fe/Getz_Ebert_IBM_13-583_Exomes_10TNAsamples_November2020/RP-1886/Exome/046434_XQ_3239/v2/046434_XQ_3239.bam \\n'\n",
      "b'OK\\n'\n",
      "sending command: b'collapse \\n'\n",
      "b'OK\\n'\n",
      "sending command: b'sort base \\n'\n",
      "b'OK\\n'\n",
      "sending command: b'snapshotDirectory /Users/cchu/Desktop/Methods/MutationReviewer/example_notebooks/test_igv_images \\n'\n",
      "b'OK\\n'\n",
      "sending command: b'snapshot test_4.png \\n'\n",
      "b'OK\\n'\n"
     ]
    },
    {
     "name": "stderr",
     "output_type": "stream",
     "text": [
      " 50%|███████████████████████████████████████████████████████████████▌                                                               | 5/10 [00:35<00:33,  6.68s/it]"
     ]
    },
    {
     "name": "stdout",
     "output_type": "stream",
     "text": [
      "sending command: b'new \\n'\n",
      "b'OK\\n'\n",
      "chr1 17\n",
      "chr2 17\n",
      "pos1 7569720\n",
      "pos2 7592868\n",
      "{'chr': {'1': 17, '2': 17}, 'pos': {'1': 7569720, '2': 7592868}}\n",
      "Position to view: 17:7,569,700-7,569,740\n",
      "Position to view: 17:7,592,848-7,592,888\n",
      "['17:7,569,700-7,569,740', '17:7,592,848-7,592,888']\n",
      "sending command: b'goto 17:7,569,700-7,569,740 17:7,592,848-7,592,888 \\n'\n",
      "b'OK\\n'\n",
      "sending command: b'collapse \\n'\n",
      "b'OK\\n'\n",
      "sending command: b'sort base \\n'\n",
      "b'OK\\n'\n",
      "('gs://fc-02e4b730-cb29-48bb-9c3b-562e075457fe/Getz_Ebert_IBM_13-583_Exomes_10TNAsamples_November2020/RP-1886/Exome/022613_PU_3426/v2/022613_PU_3426.bam',)\n",
      "sending command: b'load gs://fc-02e4b730-cb29-48bb-9c3b-562e075457fe/Getz_Ebert_IBM_13-583_Exomes_10TNAsamples_November2020/RP-1886/Exome/022613_PU_3426/v2/022613_PU_3426.bam \\n'\n",
      "b'OK\\n'\n",
      "sending command: b'collapse \\n'\n",
      "b'OK\\n'\n",
      "sending command: b'sort base \\n'\n",
      "b'OK\\n'\n",
      "('gs://fc-02e4b730-cb29-48bb-9c3b-562e075457fe/Getz_Ebert_IBM_13-583_Exomes_10TNAsamples_November2020/RP-1886/Exome/046434_XQ_3239/v2/046434_XQ_3239.bam',)\n",
      "sending command: b'load gs://fc-02e4b730-cb29-48bb-9c3b-562e075457fe/Getz_Ebert_IBM_13-583_Exomes_10TNAsamples_November2020/RP-1886/Exome/046434_XQ_3239/v2/046434_XQ_3239.bam \\n'\n",
      "b'OK\\n'\n",
      "sending command: b'collapse \\n'\n",
      "b'OK\\n'\n",
      "sending command: b'sort base \\n'\n",
      "b'OK\\n'\n",
      "sending command: b'snapshotDirectory /Users/cchu/Desktop/Methods/MutationReviewer/example_notebooks/test_igv_images \\n'\n",
      "b'OK\\n'\n",
      "sending command: b'snapshot test_5.png \\n'\n",
      "b'OK\\n'\n"
     ]
    },
    {
     "name": "stderr",
     "output_type": "stream",
     "text": [
      " 60%|████████████████████████████████████████████████████████████████████████████▏                                                  | 6/10 [00:41<00:26,  6.52s/it]"
     ]
    },
    {
     "name": "stdout",
     "output_type": "stream",
     "text": [
      "sending command: b'new \\n'\n",
      "b'OK\\n'\n",
      "chr1 17\n",
      "chr2 17\n",
      "pos1 7569720\n",
      "pos2 7592868\n",
      "{'chr': {'1': 17, '2': 17}, 'pos': {'1': 7569720, '2': 7592868}}\n",
      "Position to view: 17:7,569,700-7,569,740\n",
      "Position to view: 17:7,592,848-7,592,888\n",
      "['17:7,569,700-7,569,740', '17:7,592,848-7,592,888']\n",
      "sending command: b'goto 17:7,569,700-7,569,740 17:7,592,848-7,592,888 \\n'\n",
      "b'OK\\n'\n",
      "sending command: b'collapse \\n'\n",
      "b'OK\\n'\n",
      "sending command: b'sort base \\n'\n",
      "b'OK\\n'\n",
      "('gs://fc-02e4b730-cb29-48bb-9c3b-562e075457fe/Getz_Ebert_IBM_13-583_Exomes_10TNAsamples_November2020/RP-1886/Exome/022613_PU_3426/v2/022613_PU_3426.bam',)\n",
      "sending command: b'load gs://fc-02e4b730-cb29-48bb-9c3b-562e075457fe/Getz_Ebert_IBM_13-583_Exomes_10TNAsamples_November2020/RP-1886/Exome/022613_PU_3426/v2/022613_PU_3426.bam \\n'\n",
      "b'OK\\n'\n",
      "sending command: b'collapse \\n'\n",
      "b'OK\\n'\n",
      "sending command: b'sort base \\n'\n",
      "b'OK\\n'\n",
      "('gs://fc-02e4b730-cb29-48bb-9c3b-562e075457fe/Getz_Ebert_IBM_13-583_Exomes_10TNAsamples_November2020/RP-1886/Exome/046434_XQ_3239/v2/046434_XQ_3239.bam',)\n",
      "sending command: b'load gs://fc-02e4b730-cb29-48bb-9c3b-562e075457fe/Getz_Ebert_IBM_13-583_Exomes_10TNAsamples_November2020/RP-1886/Exome/046434_XQ_3239/v2/046434_XQ_3239.bam \\n'\n",
      "b'OK\\n'\n",
      "sending command: b'collapse \\n'\n",
      "b'OK\\n'\n",
      "sending command: b'sort base \\n'\n",
      "b'OK\\n'\n",
      "sending command: b'snapshotDirectory /Users/cchu/Desktop/Methods/MutationReviewer/example_notebooks/test_igv_images \\n'\n",
      "b'OK\\n'\n",
      "sending command: b'snapshot test_6.png \\n'\n",
      "b'OK\\n'\n"
     ]
    },
    {
     "name": "stderr",
     "output_type": "stream",
     "text": [
      " 70%|████████████████████████████████████████████████████████████████████████████████████████▉                                      | 7/10 [00:47<00:19,  6.44s/it]"
     ]
    },
    {
     "name": "stdout",
     "output_type": "stream",
     "text": [
      "sending command: b'new \\n'\n",
      "b'OK\\n'\n",
      "chr1 17\n",
      "chr2 17\n",
      "pos1 7569720\n",
      "pos2 7592868\n",
      "{'chr': {'1': 17, '2': 17}, 'pos': {'1': 7569720, '2': 7592868}}\n",
      "Position to view: 17:7,569,700-7,569,740\n",
      "Position to view: 17:7,592,848-7,592,888\n",
      "['17:7,569,700-7,569,740', '17:7,592,848-7,592,888']\n",
      "sending command: b'goto 17:7,569,700-7,569,740 17:7,592,848-7,592,888 \\n'\n",
      "b'OK\\n'\n",
      "sending command: b'collapse \\n'\n",
      "b'OK\\n'\n",
      "sending command: b'sort base \\n'\n",
      "b'OK\\n'\n",
      "('gs://fc-02e4b730-cb29-48bb-9c3b-562e075457fe/Getz_Ebert_IBM_13-583_Exomes_10TNAsamples_November2020/RP-1886/Exome/022613_PU_3426/v2/022613_PU_3426.bam',)\n",
      "sending command: b'load gs://fc-02e4b730-cb29-48bb-9c3b-562e075457fe/Getz_Ebert_IBM_13-583_Exomes_10TNAsamples_November2020/RP-1886/Exome/022613_PU_3426/v2/022613_PU_3426.bam \\n'\n",
      "b'OK\\n'\n",
      "sending command: b'collapse \\n'\n",
      "b'OK\\n'\n",
      "sending command: b'sort base \\n'\n",
      "b'OK\\n'\n",
      "('gs://fc-02e4b730-cb29-48bb-9c3b-562e075457fe/Getz_Ebert_IBM_13-583_Exomes_10TNAsamples_November2020/RP-1886/Exome/046434_XQ_3239/v2/046434_XQ_3239.bam',)\n",
      "sending command: b'load gs://fc-02e4b730-cb29-48bb-9c3b-562e075457fe/Getz_Ebert_IBM_13-583_Exomes_10TNAsamples_November2020/RP-1886/Exome/046434_XQ_3239/v2/046434_XQ_3239.bam \\n'\n",
      "b'OK\\n'\n",
      "sending command: b'collapse \\n'\n",
      "b'OK\\n'\n",
      "sending command: b'sort base \\n'\n",
      "b'OK\\n'\n",
      "sending command: b'snapshotDirectory /Users/cchu/Desktop/Methods/MutationReviewer/example_notebooks/test_igv_images \\n'\n",
      "b'OK\\n'\n",
      "sending command: b'snapshot test_7.png \\n'\n",
      "b'OK\\n'\n"
     ]
    },
    {
     "name": "stderr",
     "output_type": "stream",
     "text": [
      " 80%|█████████████████████████████████████████████████████████████████████████████████████████████████████▌                         | 8/10 [00:55<00:13,  6.85s/it]"
     ]
    },
    {
     "name": "stdout",
     "output_type": "stream",
     "text": [
      "sending command: b'new \\n'\n",
      "b'OK\\n'\n",
      "chr1 17\n",
      "chr2 17\n",
      "pos1 7569720\n",
      "pos2 7592868\n",
      "{'chr': {'1': 17, '2': 17}, 'pos': {'1': 7569720, '2': 7592868}}\n",
      "Position to view: 17:7,569,700-7,569,740\n",
      "Position to view: 17:7,592,848-7,592,888\n",
      "['17:7,569,700-7,569,740', '17:7,592,848-7,592,888']\n",
      "sending command: b'goto 17:7,569,700-7,569,740 17:7,592,848-7,592,888 \\n'\n",
      "b'OK\\n'\n",
      "sending command: b'collapse \\n'\n",
      "b'OK\\n'\n",
      "sending command: b'sort base \\n'\n",
      "b'OK\\n'\n",
      "('gs://fc-02e4b730-cb29-48bb-9c3b-562e075457fe/Getz_Ebert_IBM_13-583_Exomes_10TNAsamples_November2020/RP-1886/Exome/022613_PU_3426/v2/022613_PU_3426.bam',)\n",
      "sending command: b'load gs://fc-02e4b730-cb29-48bb-9c3b-562e075457fe/Getz_Ebert_IBM_13-583_Exomes_10TNAsamples_November2020/RP-1886/Exome/022613_PU_3426/v2/022613_PU_3426.bam \\n'\n",
      "b'OK\\n'\n",
      "sending command: b'collapse \\n'\n",
      "b'OK\\n'\n",
      "sending command: b'sort base \\n'\n",
      "b'OK\\n'\n",
      "('gs://fc-02e4b730-cb29-48bb-9c3b-562e075457fe/Getz_Ebert_IBM_13-583_Exomes_10TNAsamples_November2020/RP-1886/Exome/046434_XQ_3239/v2/046434_XQ_3239.bam',)\n",
      "sending command: b'load gs://fc-02e4b730-cb29-48bb-9c3b-562e075457fe/Getz_Ebert_IBM_13-583_Exomes_10TNAsamples_November2020/RP-1886/Exome/046434_XQ_3239/v2/046434_XQ_3239.bam \\n'\n",
      "b'OK\\n'\n",
      "sending command: b'collapse \\n'\n",
      "b'OK\\n'\n",
      "sending command: b'sort base \\n'\n",
      "b'OK\\n'\n",
      "sending command: b'snapshotDirectory /Users/cchu/Desktop/Methods/MutationReviewer/example_notebooks/test_igv_images \\n'\n",
      "b'OK\\n'\n",
      "sending command: b'snapshot test_8.png \\n'\n",
      "b'OK\\n'\n"
     ]
    },
    {
     "name": "stderr",
     "output_type": "stream",
     "text": [
      " 90%|██████████████████████████████████████████████████████████████████████████████████████████████████████████████████▎            | 9/10 [01:01<00:06,  6.51s/it]"
     ]
    },
    {
     "name": "stdout",
     "output_type": "stream",
     "text": [
      "sending command: b'new \\n'\n",
      "b'OK\\n'\n",
      "chr1 17\n",
      "chr2 17\n",
      "pos1 7569720\n",
      "pos2 7592868\n",
      "{'chr': {'1': 17, '2': 17}, 'pos': {'1': 7569720, '2': 7592868}}\n",
      "Position to view: 17:7,569,700-7,569,740\n",
      "Position to view: 17:7,592,848-7,592,888\n",
      "['17:7,569,700-7,569,740', '17:7,592,848-7,592,888']\n",
      "sending command: b'goto 17:7,569,700-7,569,740 17:7,592,848-7,592,888 \\n'\n",
      "b'OK\\n'\n",
      "sending command: b'collapse \\n'\n",
      "b'OK\\n'\n",
      "sending command: b'sort base \\n'\n",
      "b'OK\\n'\n",
      "('gs://fc-02e4b730-cb29-48bb-9c3b-562e075457fe/Getz_Ebert_IBM_13-583_Exomes_10TNAsamples_November2020/RP-1886/Exome/022613_PU_3426/v2/022613_PU_3426.bam',)\n",
      "sending command: b'load gs://fc-02e4b730-cb29-48bb-9c3b-562e075457fe/Getz_Ebert_IBM_13-583_Exomes_10TNAsamples_November2020/RP-1886/Exome/022613_PU_3426/v2/022613_PU_3426.bam \\n'\n",
      "b'OK\\n'\n",
      "sending command: b'collapse \\n'\n",
      "b'OK\\n'\n",
      "sending command: b'sort base \\n'\n",
      "b'OK\\n'\n",
      "('gs://fc-02e4b730-cb29-48bb-9c3b-562e075457fe/Getz_Ebert_IBM_13-583_Exomes_10TNAsamples_November2020/RP-1886/Exome/046434_XQ_3239/v2/046434_XQ_3239.bam',)\n",
      "sending command: b'load gs://fc-02e4b730-cb29-48bb-9c3b-562e075457fe/Getz_Ebert_IBM_13-583_Exomes_10TNAsamples_November2020/RP-1886/Exome/046434_XQ_3239/v2/046434_XQ_3239.bam \\n'\n",
      "b'OK\\n'\n",
      "sending command: b'collapse \\n'\n",
      "b'OK\\n'\n",
      "sending command: b'sort base \\n'\n",
      "b'OK\\n'\n",
      "sending command: b'snapshotDirectory /Users/cchu/Desktop/Methods/MutationReviewer/example_notebooks/test_igv_images \\n'\n",
      "b'OK\\n'\n",
      "sending command: b'snapshot test_9.png \\n'\n",
      "b'OK\\n'\n"
     ]
    },
    {
     "name": "stderr",
     "output_type": "stream",
     "text": [
      "100%|██████████████████████████████████████████████████████████████████████████████████████████████████████████████████████████████| 10/10 [01:07<00:00,  6.73s/it]\n"
     ]
    }
   ],
   "source": [
    "for i in tqdm.tqdm(range(10)):\n",
    "    ir.new()\n",
    "    # ir.goto(chromosome, start_pos, end_pos, expand=20)\n",
    "    ir.goto_multiple(**dict(chr1=chromosome, chr2=chromosome, pos1=start_pos, pos2=end_pos))\n",
    "    ir.load(samples_df.iloc[0][\"gpdw_DNA_WES_icev1_cram_or_bam_path\"])\n",
    "    ir.load(samples_df.iloc[1][\"gpdw_DNA_WES_icev1_cram_or_bam_path\"])\n",
    "    ir.snapshot()\n",
    "    time.sleep(1)"
   ]
  },
  {
   "cell_type": "markdown",
   "id": "2ab3bd21-878a-41a6-b79b-f38ccccd6efb",
   "metadata": {},
   "source": [
    "# More tests"
   ]
  },
  {
   "cell_type": "code",
   "execution_count": 190,
   "id": "4435bdc3-c14c-41f6-939a-c5bac5d927a6",
   "metadata": {},
   "outputs": [
    {
     "name": "stdout",
     "output_type": "stream",
     "text": [
      "sending command: b'new \\n'\n",
      "b'OK\\n'\n"
     ]
    }
   ],
   "source": [
    "ir.new()"
   ]
  },
  {
   "cell_type": "code",
   "execution_count": 143,
   "id": "00ef7ddf-f6fe-4e92-bcc7-7947e11bd611",
   "metadata": {},
   "outputs": [
    {
     "name": "stdout",
     "output_type": "stream",
     "text": [
      "Position to view: 17:7,569,700-7,592,868\n",
      "sending command: b'goto 17:7,569,700-7,592,868 \\n'\n",
      "b'OK\\n'\n",
      "sending command: b'collapse \\n'\n",
      "b'OK\\n'\n",
      "sending command: b'sort base \\n'\n",
      "b'OK\\n'\n"
     ]
    }
   ],
   "source": [
    "ir.goto(chromosome, start_pos, end_pos, expand=20)"
   ]
  },
  {
   "cell_type": "code",
   "execution_count": 144,
   "id": "1227dabc-308a-4f82-883a-905898fe61c3",
   "metadata": {},
   "outputs": [
    {
     "name": "stdout",
     "output_type": "stream",
     "text": [
      "('/Users/cchu/Desktop/Methods/MutationReviewer/1k_genomes/HG00096.17_7571739_7590808.bam',)\n",
      "sending command: b'load /Users/cchu/Desktop/Methods/MutationReviewer/1k_genomes/HG00096.17_7571739_7590808.bam \\n'\n",
      "b'OK\\n'\n",
      "sending command: b'collapse \\n'\n",
      "b'OK\\n'\n",
      "sending command: b'sort base \\n'\n",
      "b'OK\\n'\n"
     ]
    }
   ],
   "source": [
    "ir.load(bam_paths_df.iloc[0][\"local_bam_path\"])"
   ]
  },
  {
   "cell_type": "code",
   "execution_count": 145,
   "id": "d4e5c52e-e5ef-4d16-aac3-9e696894617b",
   "metadata": {},
   "outputs": [
    {
     "name": "stdout",
     "output_type": "stream",
     "text": [
      "('/Users/cchu/Desktop/Methods/MutationReviewer/1k_genomes/HG00097.17_7571739_7590808.bam',)\n",
      "sending command: b'load /Users/cchu/Desktop/Methods/MutationReviewer/1k_genomes/HG00097.17_7571739_7590808.bam \\n'\n",
      "b'OK\\n'\n",
      "sending command: b'collapse \\n'\n",
      "b'OK\\n'\n",
      "sending command: b'sort base \\n'\n",
      "b'OK\\n'\n"
     ]
    }
   ],
   "source": [
    "ir.load(bam_paths_df.iloc[1][\"local_bam_path\"])"
   ]
  },
  {
   "cell_type": "code",
   "execution_count": 124,
   "id": "9c3e9c98-413d-4186-8a27-6ef486e7fdf8",
   "metadata": {},
   "outputs": [
    {
     "name": "stdout",
     "output_type": "stream",
     "text": [
      "sending command: b'collapse \\n'\n",
      "b'OK\\n'\n",
      "sending command: b'sort base \\n'\n",
      "b'OK\\n'\n"
     ]
    }
   ],
   "source": [
    "ir._adjust_viewopts()"
   ]
  },
  {
   "cell_type": "code",
   "execution_count": 88,
   "id": "c6876d32-655c-411e-bc33-f67411f22516",
   "metadata": {},
   "outputs": [
    {
     "name": "stdout",
     "output_type": "stream",
     "text": [
      "sending command: b'new \\n'\n",
      "b'OK\\n'\n",
      "sending command: b'goto 17:7569720-7592868 \\n'\n",
      "b'OK\\n'\n",
      "sending command: b'load /Users/cchu/Desktop/Methods/MutationReviewer/1k_genomes/HG00097.17_7571739_7590808.bam \\n'\n",
      "b'OK\\n'\n"
     ]
    }
   ],
   "source": [
    "ir.send_cmds(['new', 'goto {}:{}-{}'.format(chromosome, start_pos, end_pos), f'load {bam_paths_df.iloc[1][\"local_bam_path\"]}'])"
   ]
  },
  {
   "cell_type": "code",
   "execution_count": 89,
   "id": "f5dc7fb0-bcf9-4209-b0c1-20c1640c6412",
   "metadata": {},
   "outputs": [
    {
     "name": "stdout",
     "output_type": "stream",
     "text": [
      "sending command: b'new \\n'\n",
      "b'OK\\n'\n",
      "sending command: b'goto 17:7569720-7592868 \\n'\n",
      "b'OK\\n'\n",
      "sending command: b'load /Users/cchu/Desktop/Methods/MutationReviewer/1k_genomes/HG00096.17_7571739_7590808.bam \\n'\n",
      "b'OK\\n'\n",
      "sending command: b'load /Users/cchu/Desktop/Methods/MutationReviewer/1k_genomes/HG00097.17_7571739_7590808.bam \\n'\n",
      "b'OK\\n'\n"
     ]
    }
   ],
   "source": [
    "ir.send_cmds(['new', 'goto {}:{}-{}'.format(chromosome, start_pos, end_pos), f'load {bam_paths_df.iloc[0][\"local_bam_path\"]}', f'load {bam_paths_df.iloc[1][\"local_bam_path\"]}'])"
   ]
  },
  {
   "cell_type": "code",
   "execution_count": null,
   "id": "bf42f3ba-0130-4b0d-91c1-0d81329c1900",
   "metadata": {},
   "outputs": [],
   "source": []
  }
 ],
 "metadata": {
  "kernelspec": {
   "display_name": "mutation_reviewer_env",
   "language": "python",
   "name": "mutation_reviewer_env"
  },
  "language_info": {
   "codemirror_mode": {
    "name": "ipython",
    "version": 3
   },
   "file_extension": ".py",
   "mimetype": "text/x-python",
   "name": "python",
   "nbconvert_exporter": "python",
   "pygments_lexer": "ipython3",
   "version": "3.8.15"
  }
 },
 "nbformat": 4,
 "nbformat_minor": 5
}
