{
 "cells": [
  {
   "cell_type": "markdown",
   "id": "cf8600a5-3755-4e89-9521-a112c15c8948",
   "metadata": {},
   "source": [
    "# Remote Mutation Reviewer Example\n",
    "\n",
    "This notebook includes set up instructions for running a Mutation Reviewer in a notebook located on a VM.\n",
    "\n",
    "## Set up VM\n",
    "\n",
    "1. Install VNC server (on VM and local)\n",
    "1. Start VNC server\n",
    "1. Port forward\n",
    "\n",
    "## Install IGV\n",
    "\n",
    "1. In the VNC browser go to IGV download page\n",
    "1. Unzip file\n",
    "1. In terminal run the sh file to open IGV\n",
    "1. If reading bams from google buckets, go to the \"google\" tab at the top and log in. Do this BEFORE starting your mutation reviewer\n",
    "1. Start revieweing\n"
   ]
  },
  {
   "cell_type": "code",
   "execution_count": null,
   "id": "8082cf0a-6cb8-42b2-9f3b-3d8d54351d54",
   "metadata": {},
   "outputs": [],
   "source": []
  }
 ],
 "metadata": {
  "kernelspec": {
   "display_name": "mutation_reviewer_env",
   "language": "python",
   "name": "mutation_reviewer_env"
  },
  "language_info": {
   "codemirror_mode": {
    "name": "ipython",
    "version": 3
   },
   "file_extension": ".py",
   "mimetype": "text/x-python",
   "name": "python",
   "nbconvert_exporter": "python",
   "pygments_lexer": "ipython3",
   "version": "3.8.15"
  }
 },
 "nbformat": 4,
 "nbformat_minor": 5
}
