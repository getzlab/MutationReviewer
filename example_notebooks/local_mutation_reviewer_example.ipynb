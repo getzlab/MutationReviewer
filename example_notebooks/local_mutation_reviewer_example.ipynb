{
 "cells": [
  {
   "cell_type": "markdown",
   "id": "cb6fdc45-2e34-4c39-9704-30a51a3e5863",
   "metadata": {},
   "source": [
    "# Local Mutation Reviewer Example\n",
    "\n",
    "1. Install IGV here: https://software.broadinstitute.org/software/igv/download (tested on version 2.15)\n",
    "1. BEFORE running the Mutation Reviewer:\n",
    "    1. Open IGV\n",
    "    1. Go to \"Google\" and log in\n",
    "    1. Go to \"Google\" and enter google project id. This is required for requestor pays. If the mutations are loading but the bams are not, this is likely the problem.\n",
    "1. Run the notebook"
   ]
  },
  {
   "cell_type": "code",
   "execution_count": 1,
   "id": "cf126270-6273-458e-88d2-a12f02d457a5",
   "metadata": {},
   "outputs": [],
   "source": [
    "%load_ext autoreload\n",
    "%autoreload 2"
   ]
  },
  {
   "cell_type": "code",
   "execution_count": 2,
   "id": "edc36703-734c-40be-9e43-927c84a6a7b2",
   "metadata": {},
   "outputs": [],
   "source": [
    "import pandas as pd\n",
    "import numpy as np\n",
    "import os\n",
    "from MutationReviewer.Reviewers.MutationReviewer import MutationReviewer\n",
    "import dalmatian"
   ]
  },
  {
   "cell_type": "code",
   "execution_count": 3,
   "id": "fb4f16e7-9d5b-4e9b-9397-58798f5f3dfb",
   "metadata": {},
   "outputs": [],
   "source": [
    "data_dir = './data/'\n",
    "if not os.path.isdir(data_dir):\n",
    "    os.mkdir(data_dir)\n",
    "    \n",
    "notebook_data_dir = f'{data_dir}/local_mutation_reviewer_example/'\n",
    "if not os.path.isdir(notebook_data_dir):\n",
    "    os.mkdir(notebook_data_dir)"
   ]
  },
  {
   "cell_type": "code",
   "execution_count": 4,
   "id": "128b6a4a-69e5-4bb9-b045-9ee9b0cde833",
   "metadata": {},
   "outputs": [],
   "source": [
    "analysis_workspace = 'broad-getzlab-ibm-taml-t/Ebert-Sperling_MDS-AML-pran-4_Claudia_v1'\n",
    "wm = dalmatian.WorkspaceManager(analysis_workspace)\n",
    "sample_bams_df = wm.get_samples()"
   ]
  },
  {
   "cell_type": "code",
   "execution_count": 5,
   "id": "6f553e82-2e8d-47d2-b5fd-df32178ec900",
   "metadata": {},
   "outputs": [
    {
     "name": "stderr",
     "output_type": "stream",
     "text": [
      "/var/folders/h3/49kgmgs54yv7pd7wbst2wfv80000gp/T/ipykernel_72659/3094342756.py:2: DtypeWarning: Columns (47,48,54,69,88,100,143,147,150,153,154,156,163,164,176,179,181,187,223,229,233,235,236,237,253,262,288,317,320,326,333,344,365,383,390,393,394,397,401,403,404,406,411,413,414,419,429,433,477,484,487,488,491,495,497,498,500,505,507,508,513,523,527) have mixed types. Specify dtype option on import or set low_memory=False.\n",
      "  mutsig_annot_maf_df = pd.read_csv(mutsig_annot_maf_fn, sep='\\t', encoding='iso-8859-1')\n"
     ]
    }
   ],
   "source": [
    "mutsig_annot_maf_fn = 'gs://fc-secure-c220c99a-d38d-4e44-ac3f-093f46579d69/submissions/57ae3382-beee-47af-a5fa-d6ce33c09cc9/mutation_mutsig2cv_hg19/92ba2984-bfd8-4e49-8f8e-644bd7cec874/call-tool_mutsig2cv_hg19/5_0002_Discovery-Participants.final_analysis_set.maf'\n",
    "mutsig_annot_maf_df = pd.read_csv(mutsig_annot_maf_fn, sep='\\t', encoding='iso-8859-1')\n"
   ]
  },
  {
   "cell_type": "code",
   "execution_count": 6,
   "id": "89643b77-53a5-4de6-9204-c1619584a670",
   "metadata": {},
   "outputs": [],
   "source": [
    "data_pkl_fn = f'{notebook_data_dir}/review_data.4.pkl'\n",
    "review_description = 'Test reviewer'"
   ]
  },
  {
   "cell_type": "raw",
   "id": "4dcb9372-91f3-47dd-b85d-9dc6be53922c",
   "metadata": {
    "tags": []
   },
   "source": [
    "%pip install dash-extensions"
   ]
  },
  {
   "cell_type": "code",
   "execution_count": 164,
   "id": "f1c20348-db26-40c2-9157-c690372fb5a8",
   "metadata": {},
   "outputs": [
    {
     "name": "stderr",
     "output_type": "stream",
     "text": [
      "/Users/cchu/opt/anaconda3/envs/mutation_reviewer_env/lib/python3.8/site-packages/JupyterReviewer/ReviewDataInterface.py:38: UserWarning:\n",
      "\n",
      "Loading existing data pkl file\n",
      "\n",
      "/Users/cchu/opt/anaconda3/envs/mutation_reviewer_env/lib/python3.8/site-packages/JupyterReviewer/ReviewerTemplate.py:327: UserWarning:\n",
      "\n",
      "add_review_data_annotations_app_display() is deprecated. Please use add_annotation_display_component()\n",
      "\n"
     ]
    }
   ],
   "source": [
    "reviewer = MutationReviewer()\n",
    "reviewer.set_review_data(\n",
    "    data_pkl_fn=data_pkl_fn, \n",
    "    description=review_description, \n",
    "    mutations_df=mutsig_annot_maf_df,\n",
    "    bams_df=sample_bams_df.reset_index(),\n",
    "    mutations_df_sample_col='patient', # on patient level\n",
    "    chrom_col='chr',\n",
    "    start_pos_col='pos',\n",
    "    bam_df_sample_col='participant', # on patient level\n",
    "    bam_col='gpdw_DNA_WES_icev1_cram_or_bam_path',\n",
    "    bai_col='gpdw_DNA_WES_icev1_crai_or_bai_path'\n",
    ")\n",
    "reviewer.set_review_app(\n",
    "    mutation_table_display_cols=['Hugo_Symbol', 'chr', 'pos', 'type', 'classification', 'gnomADg_AF', 't_alt_count', 't_ref_count', 'tumor_f', 'purity'],\n",
    "    bam_table_display_cols=['sample_id', 'gpdw_DNA_WES_icev1_cram_or_bam_path', 'gpdw_DNA_WES_icev1_crai_or_bai_path'],\n",
    "    bai_col='gpdw_DNA_WES_icev1_crai_or_bai_path',\n",
    "    genome='hg19',\n",
    "    track_height=500\n",
    ")\n",
    "\n",
    "reviewer.set_default_review_data_annotations_configuration()"
   ]
  },
  {
   "cell_type": "code",
   "execution_count": 166,
   "id": "6994e51e-b45f-4302-b71a-423be50cc5e6",
   "metadata": {},
   "outputs": [
    {
     "name": "stdout",
     "output_type": "stream",
     "text": [
      "Dash is running on http://0.0.0.0:8088/\n",
      "\n",
      "Dash app running on http://0.0.0.0:8088/\n"
     ]
    }
   ],
   "source": [
    "reviewer.run(port=8088)"
   ]
  },
  {
   "cell_type": "code",
   "execution_count": 51,
   "id": "a09585f5-cfdf-43ad-96cf-a624e1360d8d",
   "metadata": {},
   "outputs": [
    {
     "data": {
      "text/html": [
       "<div>\n",
       "<style scoped>\n",
       "    .dataframe tbody tr th:only-of-type {\n",
       "        vertical-align: middle;\n",
       "    }\n",
       "\n",
       "    .dataframe tbody tr th {\n",
       "        vertical-align: top;\n",
       "    }\n",
       "\n",
       "    .dataframe thead th {\n",
       "        text-align: right;\n",
       "    }\n",
       "</style>\n",
       "<table border=\"1\" class=\"dataframe\">\n",
       "  <thead>\n",
       "    <tr style=\"text-align: right;\">\n",
       "      <th></th>\n",
       "      <th>index</th>\n",
       "      <th>timestamp</th>\n",
       "      <th>source_data_fn</th>\n",
       "      <th>mutation_call</th>\n",
       "      <th>sequencing_tags</th>\n",
       "      <th>Notes</th>\n",
       "    </tr>\n",
       "  </thead>\n",
       "  <tbody>\n",
       "    <tr>\n",
       "      <th>0</th>\n",
       "      <td>1:865665</td>\n",
       "      <td>2022-11-28 14:44:36.972922</td>\n",
       "      <td>./data//local_mutation_reviewer_example//revie...</td>\n",
       "      <td>Somatic</td>\n",
       "      <td></td>\n",
       "      <td></td>\n",
       "    </tr>\n",
       "    <tr>\n",
       "      <th>0</th>\n",
       "      <td>1:865665</td>\n",
       "      <td>2022-11-28 14:44:44.704764</td>\n",
       "      <td>./data//local_mutation_reviewer_example//revie...</td>\n",
       "      <td>Somatic</td>\n",
       "      <td>[Same Start and End, Short Insert Only]</td>\n",
       "      <td></td>\n",
       "    </tr>\n",
       "  </tbody>\n",
       "</table>\n",
       "</div>"
      ],
      "text/plain": [
       "      index                  timestamp  \\\n",
       "0  1:865665 2022-11-28 14:44:36.972922   \n",
       "0  1:865665 2022-11-28 14:44:44.704764   \n",
       "\n",
       "                                      source_data_fn mutation_call  \\\n",
       "0  ./data//local_mutation_reviewer_example//revie...       Somatic   \n",
       "0  ./data//local_mutation_reviewer_example//revie...       Somatic   \n",
       "\n",
       "                           sequencing_tags Notes  \n",
       "0                                                 \n",
       "0  [Same Start and End, Short Insert Only]        "
      ]
     },
     "execution_count": 51,
     "metadata": {},
     "output_type": "execute_result"
    },
    {
     "name": "stdout",
     "output_type": "stream",
     "text": [
      "socket initialized\n",
      "Position to view: 1:878,233-878,273\n",
      "('gs://fc-02e4b730-cb29-48bb-9c3b-562e075457fe/Getz_Ebert_IBM_13-583_Exomes_35samples_Feb2020/RP-1886/Exome/JJ01222018BM/v2/JJ01222018BM.bam',)\n",
      "socket closed\n",
      "socket initialized\n",
      "Position to view: 1:865,645-865,685\n",
      "('gs://fc-02e4b730-cb29-48bb-9c3b-562e075457fe/Getz_Ebert_IBM_13-583_Exomes_35samples_Feb2020/RP-1886/Exome/PQ16103BM/v2/PQ16103BM.bam',)\n",
      "socket closed\n",
      "socket initialized\n",
      "Position to view: 1:877,503-877,543\n",
      "('gs://fc-02e4b730-cb29-48bb-9c3b-562e075457fe/Getz_Ebert_IBM_13-583_Exomes_31samples_Feb2020/RP-1886/Exome/CM66268/v1/CM66268.bam', 'gs://fc-02e4b730-cb29-48bb-9c3b-562e075457fe/Getz_Ebert_IBM_13-583_Exomes_164samples_Sept2019/RP-1886/Exome/CM67833/v2/CM67833.bam')\n",
      "socket closed\n",
      "socket initialized\n",
      "Position to view: 1:865,645-865,685\n",
      "('gs://fc-02e4b730-cb29-48bb-9c3b-562e075457fe/Getz_Ebert_IBM_13-583_Exomes_35samples_Feb2020/RP-1886/Exome/PQ16103BM/v2/PQ16103BM.bam',)\n",
      "socket closed\n"
     ]
    }
   ],
   "source": [
    "reviewer.get_history()"
   ]
  },
  {
   "cell_type": "code",
   "execution_count": null,
   "id": "16c3010f-410f-4a37-bcaa-cdb421cfd1c0",
   "metadata": {},
   "outputs": [],
   "source": [
    "dashbio.Igv(\n",
    "            children='igv',\n",
    "            id='default-igv',\n",
    "            genome=genome,\n",
    "            minimumBases=100,"
   ]
  },
  {
   "cell_type": "markdown",
   "id": "085e4ae7-871f-40fe-8822-96ed2d1d1b11",
   "metadata": {},
   "source": [
    "# standalone dash component"
   ]
  },
  {
   "cell_type": "code",
   "execution_count": 13,
   "id": "1cb2577f-ef57-4ac2-8fd6-4191e5089455",
   "metadata": {
    "scrolled": true,
    "tags": []
   },
   "outputs": [
    {
     "name": "stdout",
     "output_type": "stream",
     "text": [
      "\u001b[33mWARNING: The directory '/Users/cchu/Library/Caches/pip' or its parent directory is not owned or is not writable by the current user. The cache has been disabled. Check the permissions and owner of that directory. If executing pip with sudo, you should use sudo's -H flag.\u001b[0m\u001b[33m\n",
      "\u001b[0mCollecting dash-bio\n",
      "  Downloading dash_bio-1.0.2.tar.gz (10.2 MB)\n",
      "\u001b[2K     \u001b[90m━━━━━━━━━━━━━━━━━━━━━━━━━━━━━━━━━━━━━━━━\u001b[0m \u001b[32m10.2/10.2 MB\u001b[0m \u001b[31m5.2 MB/s\u001b[0m eta \u001b[36m0:00:00\u001b[0m00:01\u001b[0m0:01\u001b[0m\n",
      "\u001b[?25h  Preparing metadata (setup.py) ... \u001b[?25ldone\n",
      "\u001b[?25hRequirement already satisfied: dash>=1.6.1 in /Users/cchu/opt/anaconda3/envs/mutation_reviewer_env/lib/python3.8/site-packages (from dash-bio) (2.9.2)\n",
      "Requirement already satisfied: pandas in /Users/cchu/opt/anaconda3/envs/mutation_reviewer_env/lib/python3.8/site-packages (from dash-bio) (1.5.2)\n",
      "Requirement already satisfied: scipy in /Users/cchu/opt/anaconda3/envs/mutation_reviewer_env/lib/python3.8/site-packages (from dash-bio) (1.8.1)\n",
      "Collecting scikit-learn>=0.20.1\n",
      "  Downloading scikit_learn-1.2.2-cp38-cp38-macosx_10_9_x86_64.whl (9.0 MB)\n",
      "\u001b[2K     \u001b[90m━━━━━━━━━━━━━━━━━━━━━━━━━━━━━━━━━━━━━━━━\u001b[0m \u001b[32m9.0/9.0 MB\u001b[0m \u001b[31m6.4 MB/s\u001b[0m eta \u001b[36m0:00:00\u001b[0m00:01\u001b[0m00:01\u001b[0m\n",
      "\u001b[?25hCollecting colour\n",
      "  Downloading colour-0.1.5-py2.py3-none-any.whl (23 kB)\n",
      "Collecting GEOparse>=1.1.0\n",
      "  Downloading GEOparse-2.0.3.tar.gz (278 kB)\n",
      "\u001b[2K     \u001b[90m━━━━━━━━━━━━━━━━━━━━━━━━━━━━━━━━━━━━━━━\u001b[0m \u001b[32m278.5/278.5 kB\u001b[0m \u001b[31m7.5 MB/s\u001b[0m eta \u001b[36m0:00:00\u001b[0ma \u001b[36m0:00:01\u001b[0m\n",
      "\u001b[?25h  Preparing metadata (setup.py) ... \u001b[?25ldone\n",
      "\u001b[?25hRequirement already satisfied: jsonschema in /Users/cchu/opt/anaconda3/envs/mutation_reviewer_env/lib/python3.8/site-packages (from dash-bio) (4.17.1)\n",
      "Collecting parmed\n",
      "  Downloading ParmEd-4.1.0.tar.gz (2.2 MB)\n",
      "\u001b[2K     \u001b[90m━━━━━━━━━━━━━━━━━━━━━━━━━━━━━━━━━━━━━━━━\u001b[0m \u001b[32m2.2/2.2 MB\u001b[0m \u001b[31m7.0 MB/s\u001b[0m eta \u001b[36m0:00:00\u001b[0ma \u001b[36m0:00:01\u001b[0m\n",
      "\u001b[?25h  Preparing metadata (setup.py) ... \u001b[?25ldone\n",
      "\u001b[?25hCollecting periodictable\n",
      "  Downloading periodictable-1.6.1-py2.py3-none-any.whl (752 kB)\n",
      "\u001b[2K     \u001b[90m━━━━━━━━━━━━━━━━━━━━━━━━━━━━━━━━━━━━━━\u001b[0m \u001b[32m752.5/752.5 kB\u001b[0m \u001b[31m10.3 MB/s\u001b[0m eta \u001b[36m0:00:00\u001b[0ma \u001b[36m0:00:01\u001b[0m\n",
      "\u001b[?25hRequirement already satisfied: requests in /Users/cchu/opt/anaconda3/envs/mutation_reviewer_env/lib/python3.8/site-packages (from dash-bio) (2.28.1)\n",
      "Collecting biopython>=1.77\n",
      "  Downloading biopython-1.81-cp38-cp38-macosx_10_9_x86_64.whl (2.7 MB)\n",
      "\u001b[2K     \u001b[90m━━━━━━━━━━━━━━━━━━━━━━━━━━━━━━━━━━━━━━━━\u001b[0m \u001b[32m2.7/2.7 MB\u001b[0m \u001b[31m6.1 MB/s\u001b[0m eta \u001b[36m0:00:00\u001b[0ma \u001b[36m0:00:01\u001b[0mm\n",
      "\u001b[?25hRequirement already satisfied: numpy in /Users/cchu/opt/anaconda3/envs/mutation_reviewer_env/lib/python3.8/site-packages (from biopython>=1.77->dash-bio) (1.22.4)\n",
      "Requirement already satisfied: dash-html-components==2.0.0 in /Users/cchu/opt/anaconda3/envs/mutation_reviewer_env/lib/python3.8/site-packages (from dash>=1.6.1->dash-bio) (2.0.0)\n",
      "Requirement already satisfied: Flask>=1.0.4 in /Users/cchu/opt/anaconda3/envs/mutation_reviewer_env/lib/python3.8/site-packages (from dash>=1.6.1->dash-bio) (2.2.0)\n",
      "Requirement already satisfied: dash-core-components==2.0.0 in /Users/cchu/opt/anaconda3/envs/mutation_reviewer_env/lib/python3.8/site-packages (from dash>=1.6.1->dash-bio) (2.0.0)\n",
      "Requirement already satisfied: dash-table==5.0.0 in /Users/cchu/opt/anaconda3/envs/mutation_reviewer_env/lib/python3.8/site-packages (from dash>=1.6.1->dash-bio) (5.0.0)\n",
      "Requirement already satisfied: plotly>=5.0.0 in /Users/cchu/opt/anaconda3/envs/mutation_reviewer_env/lib/python3.8/site-packages (from dash>=1.6.1->dash-bio) (5.11.0)\n",
      "Requirement already satisfied: tqdm>=4.31.1 in /Users/cchu/opt/anaconda3/envs/mutation_reviewer_env/lib/python3.8/site-packages (from GEOparse>=1.1.0->dash-bio) (4.64.1)\n",
      "Requirement already satisfied: python-dateutil>=2.8.1 in /Users/cchu/opt/anaconda3/envs/mutation_reviewer_env/lib/python3.8/site-packages (from pandas->dash-bio) (2.8.2)\n",
      "Requirement already satisfied: pytz>=2020.1 in /Users/cchu/opt/anaconda3/envs/mutation_reviewer_env/lib/python3.8/site-packages (from pandas->dash-bio) (2022.6)\n",
      "Requirement already satisfied: certifi>=2017.4.17 in /Users/cchu/opt/anaconda3/envs/mutation_reviewer_env/lib/python3.8/site-packages (from requests->dash-bio) (2022.9.24)\n",
      "Requirement already satisfied: idna<4,>=2.5 in /Users/cchu/opt/anaconda3/envs/mutation_reviewer_env/lib/python3.8/site-packages (from requests->dash-bio) (3.4)\n",
      "Requirement already satisfied: charset-normalizer<3,>=2 in /Users/cchu/opt/anaconda3/envs/mutation_reviewer_env/lib/python3.8/site-packages (from requests->dash-bio) (2.1.1)\n",
      "Requirement already satisfied: urllib3<1.27,>=1.21.1 in /Users/cchu/opt/anaconda3/envs/mutation_reviewer_env/lib/python3.8/site-packages (from requests->dash-bio) (1.26.13)\n",
      "Collecting joblib>=1.1.1\n",
      "  Downloading joblib-1.2.0-py3-none-any.whl (297 kB)\n",
      "\u001b[2K     \u001b[90m━━━━━━━━━━━━━━━━━━━━━━━━━━━━━━━━━━━━━━━\u001b[0m \u001b[32m298.0/298.0 kB\u001b[0m \u001b[31m6.5 MB/s\u001b[0m eta \u001b[36m0:00:00\u001b[0ma \u001b[36m0:00:01\u001b[0m\n",
      "\u001b[?25hCollecting threadpoolctl>=2.0.0\n",
      "  Downloading threadpoolctl-3.1.0-py3-none-any.whl (14 kB)\n",
      "Requirement already satisfied: importlib-resources>=1.4.0 in /Users/cchu/opt/anaconda3/envs/mutation_reviewer_env/lib/python3.8/site-packages (from jsonschema->dash-bio) (5.10.0)\n",
      "Requirement already satisfied: attrs>=17.4.0 in /Users/cchu/opt/anaconda3/envs/mutation_reviewer_env/lib/python3.8/site-packages (from jsonschema->dash-bio) (22.1.0)\n",
      "Requirement already satisfied: pkgutil-resolve-name>=1.3.10 in /Users/cchu/opt/anaconda3/envs/mutation_reviewer_env/lib/python3.8/site-packages (from jsonschema->dash-bio) (1.3.10)\n",
      "Requirement already satisfied: pyrsistent!=0.17.0,!=0.17.1,!=0.17.2,>=0.14.0 in /Users/cchu/opt/anaconda3/envs/mutation_reviewer_env/lib/python3.8/site-packages (from jsonschema->dash-bio) (0.19.2)\n",
      "Requirement already satisfied: pyparsing in /Users/cchu/opt/anaconda3/envs/mutation_reviewer_env/lib/python3.8/site-packages (from periodictable->dash-bio) (3.0.9)\n",
      "Requirement already satisfied: importlib-metadata>=3.6.0 in /Users/cchu/opt/anaconda3/envs/mutation_reviewer_env/lib/python3.8/site-packages (from Flask>=1.0.4->dash>=1.6.1->dash-bio) (5.1.0)\n",
      "Requirement already satisfied: click>=8.0 in /Users/cchu/opt/anaconda3/envs/mutation_reviewer_env/lib/python3.8/site-packages (from Flask>=1.0.4->dash>=1.6.1->dash-bio) (8.1.3)\n",
      "Requirement already satisfied: Jinja2>=3.0 in /Users/cchu/opt/anaconda3/envs/mutation_reviewer_env/lib/python3.8/site-packages (from Flask>=1.0.4->dash>=1.6.1->dash-bio) (3.1.2)\n",
      "Requirement already satisfied: Werkzeug>=2.2.0 in /Users/cchu/opt/anaconda3/envs/mutation_reviewer_env/lib/python3.8/site-packages (from Flask>=1.0.4->dash>=1.6.1->dash-bio) (2.2.0)\n",
      "Requirement already satisfied: itsdangerous>=2.0 in /Users/cchu/opt/anaconda3/envs/mutation_reviewer_env/lib/python3.8/site-packages (from Flask>=1.0.4->dash>=1.6.1->dash-bio) (2.1.2)\n",
      "Requirement already satisfied: zipp>=3.1.0 in /Users/cchu/opt/anaconda3/envs/mutation_reviewer_env/lib/python3.8/site-packages (from importlib-resources>=1.4.0->jsonschema->dash-bio) (3.11.0)\n",
      "Requirement already satisfied: tenacity>=6.2.0 in /Users/cchu/opt/anaconda3/envs/mutation_reviewer_env/lib/python3.8/site-packages (from plotly>=5.0.0->dash>=1.6.1->dash-bio) (8.1.0)\n",
      "Requirement already satisfied: six>=1.5 in /Users/cchu/opt/anaconda3/envs/mutation_reviewer_env/lib/python3.8/site-packages (from python-dateutil>=2.8.1->pandas->dash-bio) (1.16.0)\n",
      "Requirement already satisfied: MarkupSafe>=2.0 in /Users/cchu/opt/anaconda3/envs/mutation_reviewer_env/lib/python3.8/site-packages (from Jinja2>=3.0->Flask>=1.0.4->dash>=1.6.1->dash-bio) (2.1.1)\n",
      "Building wheels for collected packages: dash-bio, GEOparse, parmed\n",
      "  Building wheel for dash-bio (setup.py) ... \u001b[?25ldone\n",
      "\u001b[?25h  Created wheel for dash-bio: filename=dash_bio-1.0.2-py3-none-any.whl size=10338090 sha256=8ceeb8b644972a0a409abf405c74192d208c5d4c395d2546bf6d53affcf10cf1\n",
      "  Stored in directory: /private/var/folders/h3/49kgmgs54yv7pd7wbst2wfv80000gp/T/pip-ephem-wheel-cache-8smtic2j/wheels/dc/83/b3/aaca841bb4ae7d3eade713659a2e82e68cb07ba4cd2deaa61e\n",
      "  Building wheel for GEOparse (setup.py) ... \u001b[?25ldone\n",
      "\u001b[?25h  Created wheel for GEOparse: filename=GEOparse-2.0.3-py3-none-any.whl size=29052 sha256=6029e90b484a5124fbb0e01adc505e4ee3869084dade12c590134464f8a446eb\n",
      "  Stored in directory: /private/var/folders/h3/49kgmgs54yv7pd7wbst2wfv80000gp/T/pip-ephem-wheel-cache-8smtic2j/wheels/7a/75/14/727a857e321c5e5590d7e58efe9f028d753d340cea4ee540f0\n",
      "  Building wheel for parmed (setup.py) ... \u001b[?25ldone\n",
      "\u001b[?25h  Created wheel for parmed: filename=ParmEd-4.1.0-cp38-cp38-macosx_12_0_x86_64.whl size=1247035 sha256=58b06d2481731c23cdc37793ef9d1687b341c7a59544e6424a8f306c93d1fb08\n",
      "  Stored in directory: /private/var/folders/h3/49kgmgs54yv7pd7wbst2wfv80000gp/T/pip-ephem-wheel-cache-8smtic2j/wheels/6e/b0/81/b7aa07b7ade1fb1cddca5c2a666ce38509c45ad0d322f3a0c2\n",
      "Successfully built dash-bio GEOparse parmed\n",
      "Installing collected packages: colour, threadpoolctl, periodictable, parmed, joblib, biopython, scikit-learn, GEOparse, dash-bio\n",
      "Successfully installed GEOparse-2.0.3 biopython-1.81 colour-0.1.5 dash-bio-1.0.2 joblib-1.2.0 parmed-4.1.0 periodictable-1.6.1 scikit-learn-1.2.2 threadpoolctl-3.1.0\n",
      "Note: you may need to restart the kernel to use updated packages.\n"
     ]
    }
   ],
   "source": [
    "%pip install dash-bio"
   ]
  },
  {
   "cell_type": "code",
   "execution_count": 7,
   "id": "e6cde4ab-0d9a-4329-aba7-b2dedb93d051",
   "metadata": {},
   "outputs": [],
   "source": [
    "import pandas as pd\n",
    "import numpy as np\n",
    "from jupyter_dash import JupyterDash\n",
    "from dash import dcc\n",
    "from dash import html\n",
    "from dash.dependencies import Input, Output, State\n",
    "from dash.exceptions import PreventUpdate\n",
    "import dash\n",
    "import dash_bootstrap_components as dbc\n",
    "import inspect\n",
    "from collections import OrderedDict\n",
    "from typing import Dict"
   ]
  },
  {
   "cell_type": "code",
   "execution_count": 8,
   "id": "940512e4-18e9-4c74-a375-1928fc62d28e",
   "metadata": {},
   "outputs": [],
   "source": [
    "from MutationReviewer.Reviewers.MutationReviewerEmbeddedIGV import MutationReviewerEmbeddedIGV"
   ]
  },
  {
   "cell_type": "code",
   "execution_count": 50,
   "id": "7485783f-53b5-4a63-a465-d945994a78fd",
   "metadata": {},
   "outputs": [
    {
     "name": "stderr",
     "output_type": "stream",
     "text": [
      "/Users/cchu/opt/anaconda3/envs/mutation_reviewer_env/lib/python3.8/site-packages/JupyterReviewer/ReviewDataInterface.py:38: UserWarning:\n",
      "\n",
      "Loading existing data pkl file\n",
      "\n",
      "/Users/cchu/opt/anaconda3/envs/mutation_reviewer_env/lib/python3.8/site-packages/JupyterReviewer/ReviewerTemplate.py:327: UserWarning:\n",
      "\n",
      "add_review_data_annotations_app_display() is deprecated. Please use add_annotation_display_component()\n",
      "\n"
     ]
    }
   ],
   "source": [
    "reviewer = MutationReviewerEmbeddedIGV()\n",
    "reviewer.set_review_data(\n",
    "    data_pkl_fn=data_pkl_fn, \n",
    "    description=review_description, \n",
    "    mutations_df=mutsig_annot_maf_df,\n",
    "    bams_df=sample_bams_df.reset_index(),\n",
    "    mutations_df_sample_col='patient', # on patient level\n",
    "    chrom_col='chr',\n",
    "    start_pos_col='pos',\n",
    "    bam_df_sample_col='participant', # on patient level\n",
    "    bam_col='gpdw_DNA_WES_icev1_cram_or_bam_path',\n",
    "    bai_col='gpdw_DNA_WES_icev1_crai_or_bai_path'\n",
    ")\n",
    "reviewer.set_review_app(\n",
    "    mutation_table_display_cols=['Hugo_Symbol', 'chr', 'pos', 'type', 'classification', 'gnomADg_AF', 't_alt_count', 't_ref_count', 'tumor_f', 'purity'],\n",
    "    bam_table_display_cols=['sample_id', 'participant', 'gpdw_DNA_WES_icev1_cram_or_bam_path', 'gpdw_DNA_WES_icev1_crai_or_bai_path'],\n",
    "    bai_col='gpdw_DNA_WES_icev1_crai_or_bai_path',\n",
    ")\n",
    "reviewer.set_default_review_data_annotations_configuration()"
   ]
  },
  {
   "cell_type": "code",
   "execution_count": 51,
   "id": "2a40100e-b9c4-4ed5-a40d-f8b7e16243f2",
   "metadata": {},
   "outputs": [
    {
     "name": "stdout",
     "output_type": "stream",
     "text": [
      "Dash is running on http://0.0.0.0:8089/\n",
      "\n",
      "Dash app running on http://0.0.0.0:8089/\n"
     ]
    }
   ],
   "source": [
    "reviewer.run(port=8089)"
   ]
  },
  {
   "cell_type": "markdown",
   "id": "fb7e6580-1179-4eb6-982a-307d91486048",
   "metadata": {},
   "source": [
    "Set up new vm\n",
    "\n",
    "- Install NPM: https://linuxize.com/post/how-to-install-node-js-on-debian-10/\n",
    "- set up git: https://docs.github.com/en/authentication/connecting-to-github-with-ssh/generating-a-new-ssh-key-and-adding-it-to-the-ssh-agent\n",
    "- Clone igv.js and follow setup under developer\n",
    "    - https://www.npmjs.com/package/http-server\n",
    "- sudo apt install screen\n",
    "    - run the server in screen\n",
    "    - port "
   ]
  }
 ],
 "metadata": {
  "kernelspec": {
   "display_name": "Python [conda env:mutation_reviewer_env]",
   "language": "python",
   "name": "conda-env-mutation_reviewer_env-py"
  },
  "language_info": {
   "codemirror_mode": {
    "name": "ipython",
    "version": 3
   },
   "file_extension": ".py",
   "mimetype": "text/x-python",
   "name": "python",
   "nbconvert_exporter": "python",
   "pygments_lexer": "ipython3",
   "version": "3.8.15"
  }
 },
 "nbformat": 4,
 "nbformat_minor": 5
}
