{
 "cells": [
  {
   "cell_type": "markdown",
   "id": "cb6fdc45-2e34-4c39-9704-30a51a3e5863",
   "metadata": {},
   "source": [
    "# Local Mutation Reviewer Example\n",
    "\n",
    "1. Install IGV here: https://software.broadinstitute.org/software/igv/download (tested on version 2.15)\n",
    "1. BEFORE running the Mutation Reviewer:\n",
    "    1. Open IGV\n",
    "    1. Go to \"Google\" and log in\n",
    "    1. Go to \"Google\" and enter google project id. This is required for requestor pays. If the mutations are loading but the bams are not, this is likely the problem.\n",
    "1. Run the notebook"
   ]
  },
  {
   "cell_type": "code",
   "execution_count": 20,
   "id": "cf126270-6273-458e-88d2-a12f02d457a5",
   "metadata": {},
   "outputs": [
    {
     "name": "stdout",
     "output_type": "stream",
     "text": [
      "The autoreload extension is already loaded. To reload it, use:\n",
      "  %reload_ext autoreload\n"
     ]
    }
   ],
   "source": [
    "%load_ext autoreload\n",
    "%autoreload 2"
   ]
  },
  {
   "cell_type": "code",
   "execution_count": 21,
   "id": "edc36703-734c-40be-9e43-927c84a6a7b2",
   "metadata": {},
   "outputs": [],
   "source": [
    "import pandas as pd\n",
    "import numpy as np\n",
    "import os\n",
    "from MutationReviewer.Reviewers.MutationReviewer import MutationReviewer\n",
    "import dalmatian"
   ]
  },
  {
   "cell_type": "code",
   "execution_count": 22,
   "id": "fb4f16e7-9d5b-4e9b-9397-58798f5f3dfb",
   "metadata": {},
   "outputs": [],
   "source": [
    "data_dir = './data/'\n",
    "if not os.path.isdir(data_dir):\n",
    "    os.mkdir(data_dir)\n",
    "    \n",
    "notebook_data_dir = f'{data_dir}/local_mutation_reviewer_example/'\n",
    "if not os.path.isdir(notebook_data_dir):\n",
    "    os.mkdir(notebook_data_dir)"
   ]
  },
  {
   "cell_type": "code",
   "execution_count": 4,
   "id": "128b6a4a-69e5-4bb9-b045-9ee9b0cde833",
   "metadata": {},
   "outputs": [],
   "source": [
    "analysis_workspace = 'broad-getzlab-ibm-taml-t/Ebert-Sperling_MDS-AML-pran-4_Claudia_v1'\n",
    "wm = dalmatian.WorkspaceManager(analysis_workspace)\n",
    "sample_bams_df = wm.get_samples()"
   ]
  },
  {
   "cell_type": "code",
   "execution_count": 30,
   "id": "6f553e82-2e8d-47d2-b5fd-df32178ec900",
   "metadata": {},
   "outputs": [
    {
     "name": "stderr",
     "output_type": "stream",
     "text": [
      "/var/folders/h3/49kgmgs54yv7pd7wbst2wfv80000gp/T/ipykernel_15541/3094342756.py:2: DtypeWarning:\n",
      "\n",
      "Columns (47,48,54,69,88,100,143,147,150,153,154,156,163,164,176,179,181,187,223,229,233,235,236,237,253,262,288,317,320,326,333,344,365,383,390,393,394,397,401,403,404,406,411,413,414,419,429,433,477,484,487,488,491,495,497,498,500,505,507,508,513,523,527) have mixed types. Specify dtype option on import or set low_memory=False.\n",
      "\n"
     ]
    }
   ],
   "source": [
    "mutsig_annot_maf_fn = 'gs://fc-secure-c220c99a-d38d-4e44-ac3f-093f46579d69/submissions/57ae3382-beee-47af-a5fa-d6ce33c09cc9/mutation_mutsig2cv_hg19/92ba2984-bfd8-4e49-8f8e-644bd7cec874/call-tool_mutsig2cv_hg19/5_0002_Discovery-Participants.final_analysis_set.maf'\n",
    "mutsig_annot_maf_df = pd.read_csv(mutsig_annot_maf_fn, sep='\\t', encoding='iso-8859-1')\n"
   ]
  },
  {
   "cell_type": "code",
   "execution_count": 29,
   "id": "89643b77-53a5-4de6-9204-c1619584a670",
   "metadata": {},
   "outputs": [],
   "source": [
    "data_pkl_fn = f'{notebook_data_dir}/review_data.1.pkl'\n",
    "review_description = 'Test reviewer'"
   ]
  },
  {
   "cell_type": "code",
   "execution_count": 37,
   "id": "f1c20348-db26-40c2-9157-c690372fb5a8",
   "metadata": {},
   "outputs": [
    {
     "name": "stderr",
     "output_type": "stream",
     "text": [
      "/Users/cchu/opt/anaconda3/envs/mutation_reviewer_env/lib/python3.8/site-packages/JupyterReviewer/ReviewDataInterface.py:38: UserWarning:\n",
      "\n",
      "Loading existing data pkl file\n",
      "\n"
     ]
    }
   ],
   "source": [
    "reviewer = MutationReviewer()\n",
    "reviewer = MutationReviewer()\n",
    "reviewer.set_review_data(\n",
    "    data_pkl_fn=data_pkl_fn, \n",
    "    description=review_description, \n",
    "    mutations_df=mutsig_annot_maf_df,\n",
    "    bams_df=sample_bams_df.reset_index(),\n",
    "    mutations_df_sample_col='patient', # on patient level\n",
    "    chrom_col='chr',\n",
    "    start_pos_col='pos',\n",
    "    bam_df_sample_col='participant', # on patient level\n",
    "    bam_col='gpdw_DNA_WES_icev1_cram_or_bam_path',\n",
    "    bai_col='gpdw_DNA_WES_icev1_crai_or_bai_path'\n",
    ")\n",
    "reviewer.set_review_app(\n",
    "    mutation_table_display_cols=['Hugo_Symbol', 'chr', 'pos', 'type', 'classification', 'gnomADg_AF', 't_alt_count', 't_ref_count', 'tumor_f', 'purity'],\n",
    "    bam_table_display_cols=['sample_id', 'participant', 'gpdw_DNA_WES_icev1_cram_or_bam_path', 'gpdw_DNA_WES_icev1_crai_or_bai_path'],\n",
    "    bai_col='gpdw_DNA_WES_icev1_crai_or_bai_path'\n",
    ")\n",
    "reviewer.set_default_review_data_annotations_configuration()"
   ]
  },
  {
   "cell_type": "code",
   "execution_count": 38,
   "id": "6994e51e-b45f-4302-b71a-423be50cc5e6",
   "metadata": {},
   "outputs": [
    {
     "name": "stdout",
     "output_type": "stream",
     "text": [
      "Dash app running on http://0.0.0.0:8088/\n",
      "socket initialized\n",
      "Position to view: 1:878,233-878,273\n",
      "('gs://fc-02e4b730-cb29-48bb-9c3b-562e075457fe/Getz_Ebert_IBM_13-583_Exomes_35samples_Feb2020/RP-1886/Exome/JJ01222018BM/v2/JJ01222018BM.bam',)\n",
      "socket closed\n",
      "socket initialized\n",
      "Position to view: 1:983,385-983,425\n",
      "('gs://fc-02e4b730-cb29-48bb-9c3b-562e075457fe/Getz_Ebert_IBM_13-583_Exomes_164samples_Sept2019/RP-1886/Exome/PN01232018BM/v2/PN01232018BM.bam', 'gs://fc-02e4b730-cb29-48bb-9c3b-562e075457fe/Getz_Ebert_IBM_13-583_Exomes_35samples_Feb2020/RP-1886/Exome/PQ19066BM-H/v2/PQ19066BM-H.bam')\n",
      "socket closed\n"
     ]
    }
   ],
   "source": [
    "reviewer.run(port=8088)"
   ]
  },
  {
   "cell_type": "code",
   "execution_count": null,
   "id": "a09585f5-cfdf-43ad-96cf-a624e1360d8d",
   "metadata": {},
   "outputs": [],
   "source": []
  }
 ],
 "metadata": {
  "kernelspec": {
   "display_name": "mutation_reviewer_env",
   "language": "python",
   "name": "mutation_reviewer_env"
  },
  "language_info": {
   "codemirror_mode": {
    "name": "ipython",
    "version": 3
   },
   "file_extension": ".py",
   "mimetype": "text/x-python",
   "name": "python",
   "nbconvert_exporter": "python",
   "pygments_lexer": "ipython3",
   "version": "3.8.15"
  }
 },
 "nbformat": 4,
 "nbformat_minor": 5
}
