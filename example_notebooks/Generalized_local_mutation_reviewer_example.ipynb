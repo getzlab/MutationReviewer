{
 "cells": [
  {
   "cell_type": "markdown",
   "id": "cb6fdc45-2e34-4c39-9704-30a51a3e5863",
   "metadata": {},
   "source": [
    "# General Mutation Reviewer Example"
   ]
  },
  {
   "cell_type": "code",
   "execution_count": 1,
   "id": "cf126270-6273-458e-88d2-a12f02d457a5",
   "metadata": {},
   "outputs": [],
   "source": [
    "%load_ext autoreload\n",
    "%autoreload 2"
   ]
  },
  {
   "cell_type": "code",
   "execution_count": 2,
   "id": "edc36703-734c-40be-9e43-927c84a6a7b2",
   "metadata": {},
   "outputs": [],
   "source": [
    "import pandas as pd\n",
    "import numpy as np\n",
    "import os\n",
    "from MutationReviewer.Reviewers.GeneralMutationReviewer import GeneralMutationReviewer\n",
    "import dalmatian"
   ]
  },
  {
   "cell_type": "code",
   "execution_count": 3,
   "id": "fb4f16e7-9d5b-4e9b-9397-58798f5f3dfb",
   "metadata": {},
   "outputs": [],
   "source": [
    "data_dir = './data/'\n",
    "if not os.path.isdir(data_dir):\n",
    "    os.mkdir(data_dir)\n",
    "    \n",
    "notebook_data_dir = f'{data_dir}/general_local_mutation_reviewer_example/'\n",
    "if not os.path.isdir(notebook_data_dir):\n",
    "    os.mkdir(notebook_data_dir)"
   ]
  },
  {
   "cell_type": "markdown",
   "id": "93a9f20a-c8e5-43d8-9702-e5409881625a",
   "metadata": {},
   "source": [
    "# 1000 genomes bams"
   ]
  },
  {
   "cell_type": "code",
   "execution_count": 4,
   "id": "1914c6df-8499-47dd-bff3-700700a52e19",
   "metadata": {},
   "outputs": [],
   "source": [
    "from download_1000genomes_bams import download_genomes, download_vcf, format_vcf, subset_patients_vcf"
   ]
  },
  {
   "cell_type": "markdown",
   "id": "d4ee2076-1219-421e-a822-beb9938544db",
   "metadata": {},
   "source": [
    "## tp53 VCF\n",
    "\n",
    "Install bcftools before downloading"
   ]
  },
  {
   "cell_type": "code",
   "execution_count": 5,
   "id": "55b126b5-1053-4aa0-ad73-e76d389e65d9",
   "metadata": {},
   "outputs": [],
   "source": [
    "vcf_path = '../1k_genomes/tp53.vcf'"
   ]
  },
  {
   "cell_type": "code",
   "execution_count": 7,
   "id": "5f4f5d0e-7e12-44de-ba4b-a117e5226df8",
   "metadata": {},
   "outputs": [
    {
     "name": "stderr",
     "output_type": "stream",
     "text": [
      "grep: stdout: Broken pipe\n"
     ]
    }
   ],
   "source": [
    "download_vcf(\n",
    "    vcf_path,\n",
    "    onek_chr_ftp_path=\"https://ftp.1000genomes.ebi.ac.uk/vol1/ftp/release/20130502/ALL.chr17.phase3_shapeit2_mvncall_integrated_v5b.20130502.genotypes.vcf.gz\",\n",
    "    region_str=\"17:7571739-7590808\",\n",
    ")"
   ]
  },
  {
   "cell_type": "code",
   "execution_count": 6,
   "id": "80edd6a4-9453-4729-b747-e0324667a496",
   "metadata": {},
   "outputs": [],
   "source": [
    "vcf_df, patients = format_vcf(vcf_path)"
   ]
  },
  {
   "cell_type": "code",
   "execution_count": 7,
   "id": "98a91b5a-4c96-4690-9f29-c82162212592",
   "metadata": {},
   "outputs": [
    {
     "data": {
      "text/plain": [
       "Index(['HG00096', 'HG00097', 'HG00099', 'HG00100', 'HG00101'], dtype='object')"
      ]
     },
     "execution_count": 7,
     "metadata": {},
     "output_type": "execute_result"
    }
   ],
   "source": [
    "subset_patients = patients[:5]\n",
    "subset_patients"
   ]
  },
  {
   "cell_type": "code",
   "execution_count": 8,
   "id": "d6dac532-ec44-4e33-acc4-bc5b56ae98da",
   "metadata": {},
   "outputs": [],
   "source": [
    "reformat_patient_vcf_df = subset_patients_vcf(vcf_df, subset_patients)"
   ]
  },
  {
   "cell_type": "code",
   "execution_count": 9,
   "id": "bed93ae4-558c-45d6-b4b4-64239e392fe2",
   "metadata": {},
   "outputs": [
    {
     "data": {
      "text/html": [
       "<div>\n",
       "<style scoped>\n",
       "    .dataframe tbody tr th:only-of-type {\n",
       "        vertical-align: middle;\n",
       "    }\n",
       "\n",
       "    .dataframe tbody tr th {\n",
       "        vertical-align: top;\n",
       "    }\n",
       "\n",
       "    .dataframe thead th {\n",
       "        text-align: right;\n",
       "    }\n",
       "</style>\n",
       "<table border=\"1\" class=\"dataframe\">\n",
       "  <thead>\n",
       "    <tr style=\"text-align: right;\">\n",
       "      <th></th>\n",
       "      <th>CHROM</th>\n",
       "      <th>POS</th>\n",
       "      <th>ID</th>\n",
       "      <th>REF</th>\n",
       "      <th>ALT</th>\n",
       "      <th>QUAL</th>\n",
       "      <th>FILTER</th>\n",
       "      <th>INFO</th>\n",
       "      <th>FORMAT</th>\n",
       "      <th>patient_id</th>\n",
       "    </tr>\n",
       "  </thead>\n",
       "  <tbody>\n",
       "    <tr>\n",
       "      <th>9</th>\n",
       "      <td>17</td>\n",
       "      <td>7572101</td>\n",
       "      <td>.</td>\n",
       "      <td>C</td>\n",
       "      <td>T</td>\n",
       "      <td>100</td>\n",
       "      <td>PASS</td>\n",
       "      <td>AC=286;AF=0.0571086;AN=5008;NS=2504;DP=15895;E...</td>\n",
       "      <td>GT</td>\n",
       "      <td>HG00096</td>\n",
       "    </tr>\n",
       "    <tr>\n",
       "      <th>12</th>\n",
       "      <td>17</td>\n",
       "      <td>7572154</td>\n",
       "      <td>.</td>\n",
       "      <td>G</td>\n",
       "      <td>A</td>\n",
       "      <td>100</td>\n",
       "      <td>PASS</td>\n",
       "      <td>AC=2178;AF=0.434904;AN=5008;NS=2504;DP=18905;E...</td>\n",
       "      <td>GT</td>\n",
       "      <td>HG00096</td>\n",
       "    </tr>\n",
       "    <tr>\n",
       "      <th>37</th>\n",
       "      <td>17</td>\n",
       "      <td>7573229</td>\n",
       "      <td>.</td>\n",
       "      <td>C</td>\n",
       "      <td>T</td>\n",
       "      <td>100</td>\n",
       "      <td>PASS</td>\n",
       "      <td>AC=824;AF=0.164537;AN=5008;NS=2504;DP=17555;EA...</td>\n",
       "      <td>GT</td>\n",
       "      <td>HG00096</td>\n",
       "    </tr>\n",
       "    <tr>\n",
       "      <th>81</th>\n",
       "      <td>17</td>\n",
       "      <td>7574721</td>\n",
       "      <td>.</td>\n",
       "      <td>C</td>\n",
       "      <td>T</td>\n",
       "      <td>100</td>\n",
       "      <td>PASS</td>\n",
       "      <td>AC=65;AF=0.0129792;AN=5008;NS=2504;DP=17045;EA...</td>\n",
       "      <td>GT</td>\n",
       "      <td>HG00096</td>\n",
       "    </tr>\n",
       "    <tr>\n",
       "      <th>82</th>\n",
       "      <td>17</td>\n",
       "      <td>7574775</td>\n",
       "      <td>.</td>\n",
       "      <td>C</td>\n",
       "      <td>T</td>\n",
       "      <td>100</td>\n",
       "      <td>PASS</td>\n",
       "      <td>AC=2152;AF=0.429712;AN=5008;NS=2504;DP=15948;E...</td>\n",
       "      <td>GT</td>\n",
       "      <td>HG00096</td>\n",
       "    </tr>\n",
       "  </tbody>\n",
       "</table>\n",
       "</div>"
      ],
      "text/plain": [
       "    CHROM      POS ID REF ALT  QUAL FILTER  \\\n",
       "9      17  7572101  .   C   T   100   PASS   \n",
       "12     17  7572154  .   G   A   100   PASS   \n",
       "37     17  7573229  .   C   T   100   PASS   \n",
       "81     17  7574721  .   C   T   100   PASS   \n",
       "82     17  7574775  .   C   T   100   PASS   \n",
       "\n",
       "                                                 INFO FORMAT patient_id  \n",
       "9   AC=286;AF=0.0571086;AN=5008;NS=2504;DP=15895;E...     GT    HG00096  \n",
       "12  AC=2178;AF=0.434904;AN=5008;NS=2504;DP=18905;E...     GT    HG00096  \n",
       "37  AC=824;AF=0.164537;AN=5008;NS=2504;DP=17555;EA...     GT    HG00096  \n",
       "81  AC=65;AF=0.0129792;AN=5008;NS=2504;DP=17045;EA...     GT    HG00096  \n",
       "82  AC=2152;AF=0.429712;AN=5008;NS=2504;DP=15948;E...     GT    HG00096  "
      ]
     },
     "execution_count": 9,
     "metadata": {},
     "output_type": "execute_result"
    }
   ],
   "source": [
    "reformat_patient_vcf_df.head()"
   ]
  },
  {
   "cell_type": "markdown",
   "id": "454d4239-cbc5-4aa8-a1d5-dcbcd38c77e4",
   "metadata": {},
   "source": [
    "## Load Bams for subset of patients"
   ]
  },
  {
   "cell_type": "code",
   "execution_count": 10,
   "id": "32248cc7-7a5f-43ab-98c6-4333f610779f",
   "metadata": {},
   "outputs": [],
   "source": [
    "output_dir = '../1k_genomes'"
   ]
  },
  {
   "cell_type": "code",
   "execution_count": 11,
   "id": "a871c8f4-7c14-46da-99bd-e9adba7b03cd",
   "metadata": {},
   "outputs": [
    {
     "name": "stderr",
     "output_type": "stream",
     "text": [
      "100%|██████████████████████████████████████████████████████████████████████████████████| 5/5 [00:02<00:00,  2.25it/s]\n"
     ]
    }
   ],
   "source": [
    "bam_paths_fn = download_genomes(\n",
    "    patient_ids=subset_patients, \n",
    "    output_dir=os.path.abspath(output_dir),\n",
    "    onek_genomes_ftp=\"ftp.1000genomes.ebi.ac.uk\",\n",
    "    patient_path_str_format=\"/vol1/ftp/phase3/data/REPLACE/exome_alignment/REPLACE.mapped.ILLUMINA.bwa.GBR.exome.*.bam\",\n",
    "    region_str=\"17:7571739-7590808\", # TP53\n",
    "    replace_str='REPLACE',\n",
    ")"
   ]
  },
  {
   "cell_type": "code",
   "execution_count": 12,
   "id": "db6c5841-c1ee-4a78-b8fd-b4723fe4962c",
   "metadata": {},
   "outputs": [],
   "source": [
    "bam_paths_df = pd.read_csv(f'{output_dir}/1k_genomes_bam_paths.txt', sep='\\t', index_col=0)\n",
    "bam_paths_df.index.name = 'patient_id'\n",
    "bam_paths_df = bam_paths_df.reset_index()"
   ]
  },
  {
   "cell_type": "code",
   "execution_count": 13,
   "id": "92a017f7-8782-4ee8-8c09-3ce9803384c4",
   "metadata": {},
   "outputs": [
    {
     "data": {
      "text/plain": [
       "['/Users/cchu/Desktop/Methods/MutationReviewer/1k_genomes/HG00096.17_7571739_7590808.bam',\n",
       " '/Users/cchu/Desktop/Methods/MutationReviewer/1k_genomes/HG00097.17_7571739_7590808.bam',\n",
       " '/Users/cchu/Desktop/Methods/MutationReviewer/1k_genomes/HG00099.17_7571739_7590808.bam',\n",
       " '/Users/cchu/Desktop/Methods/MutationReviewer/1k_genomes/HG00100.17_7571739_7590808.bam',\n",
       " '/Users/cchu/Desktop/Methods/MutationReviewer/1k_genomes/HG00101.17_7571739_7590808.bam']"
      ]
     },
     "execution_count": 13,
     "metadata": {},
     "output_type": "execute_result"
    }
   ],
   "source": [
    "bam_paths_df.local_bam_path.tolist()"
   ]
  },
  {
   "cell_type": "code",
   "execution_count": 14,
   "id": "2fa4ded9-dac6-4321-9558-1d769c9a85d0",
   "metadata": {},
   "outputs": [
    {
     "data": {
      "text/plain": [
       "['https://ftp.1000genomes.ebi.ac.uk//vol1/ftp/phase3/data/HG00096/exome_alignment/HG00096.mapped.ILLUMINA.bwa.GBR.exome.20120522.bam.bai',\n",
       " 'https://ftp.1000genomes.ebi.ac.uk//vol1/ftp/phase3/data/HG00097/exome_alignment/HG00097.mapped.ILLUMINA.bwa.GBR.exome.20130415.bam.bai',\n",
       " 'https://ftp.1000genomes.ebi.ac.uk//vol1/ftp/phase3/data/HG00099/exome_alignment/HG00099.mapped.ILLUMINA.bwa.GBR.exome.20130415.bam.bai',\n",
       " 'https://ftp.1000genomes.ebi.ac.uk//vol1/ftp/phase3/data/HG00100/exome_alignment/HG00100.mapped.ILLUMINA.bwa.GBR.exome.20121211.bam.bai',\n",
       " 'https://ftp.1000genomes.ebi.ac.uk//vol1/ftp/phase3/data/HG00101/exome_alignment/HG00101.mapped.ILLUMINA.bwa.GBR.exome.20121211.bam.bai']"
      ]
     },
     "execution_count": 14,
     "metadata": {},
     "output_type": "execute_result"
    }
   ],
   "source": [
    "bam_paths_df.original_ftp_path_bai.tolist()"
   ]
  },
  {
   "cell_type": "markdown",
   "id": "8323c378-83b5-4fa0-81a1-d3e944b4e28f",
   "metadata": {},
   "source": [
    "# Mutation review with local bam paths\n",
    "\n",
    "We have provided local mini bams covering only TP53 from the 1000Genomes project for a select number of patients so you can quickly get a reviewer running. **Only your local IGV desktop app will take local file paths.** IGV_JS (display within the dashboard itself) will NOT take local file paths."
   ]
  },
  {
   "cell_type": "markdown",
   "id": "3d0c08fd-6821-4332-ac36-21bf6742872e",
   "metadata": {},
   "source": [
    "## Local IGV run on local paths\n",
    "\n",
    "1. Install IGV here: https://software.broadinstitute.org/software/igv/download (tested on version 2.17)\n",
    "1. Open IGV > View > Preferences > Advanced > Check `Enable port`\n",
    "1. Run `reviewer.run(...)`"
   ]
  },
  {
   "cell_type": "code",
   "execution_count": 15,
   "id": "930e77fc-ae45-4e11-8e8a-e6105ec3b0c1",
   "metadata": {},
   "outputs": [],
   "source": [
    "local_data_path = f'{notebook_data_dir}/1k_genomes.TP53.review_data.local'\n",
    "local_review_description = 'Test reviewer with local bam paths'"
   ]
  },
  {
   "cell_type": "code",
   "execution_count": 16,
   "id": "e8f245f8-1ba4-4d44-9a35-c2bc28a63f5d",
   "metadata": {},
   "outputs": [],
   "source": [
    "local_reviewer = GeneralMutationReviewer()\n",
    "local_reviewer.set_review_data(\n",
    "    data_path=local_data_path, \n",
    "    description=local_review_description,     \n",
    "    mutations_df=reformat_patient_vcf_df,\n",
    "    mutation_groupby_cols=['CHROM', 'POS'], # columns to groupby\n",
    "    mutations_df_bam_ref_col='patient_id', \n",
    "    chrom_cols='CHROM', # if a list, must be same length as start_pos_cols\n",
    "    pos_cols='POS',\n",
    "    bams_df=bam_paths_df,\n",
    "    bams_df_ref_col='patient_id',\n",
    "    bam_cols='local_bam_path',\n",
    "    bai_cols='local_bai_path',\n",
    ")\n",
    "local_reviewer.set_default_review_data_annotations_configuration()"
   ]
  },
  {
   "cell_type": "code",
   "execution_count": 17,
   "id": "e51d1bd6-5a57-4516-aa39-318762abe846",
   "metadata": {},
   "outputs": [],
   "source": [
    "local_reviewer.set_review_app(\n",
    "    mutation_table_display_cols=['CHROM', 'POS', 'REF', 'ALT', 'QUAL', 'patient_id'],\n",
    "    bam_table_display_cols=[],\n",
    "    igv_mode='igv_local', # <--\n",
    ")"
   ]
  },
  {
   "cell_type": "code",
   "execution_count": 18,
   "id": "27e75780-1050-4aa1-8483-5208de19aede",
   "metadata": {},
   "outputs": [
    {
     "name": "stdout",
     "output_type": "stream",
     "text": [
      "Setting auto_export_path to ./data//general_local_mutation_reviewer_example//1k_genomes.TP53.review_data.local/data.auto_export\n",
      "Using ./data//general_local_mutation_reviewer_example//1k_genomes.TP53.review_data.local/data.auto_export for auto exporting.\n",
      "Dash app running on http://0.0.0.0:8095/\n"
     ]
    },
    {
     "name": "stderr",
     "output_type": "stream",
     "text": [
      "/Users/cchu/opt/anaconda3/envs/mutation_reviewer_env/lib/python3.8/site-packages/AnnoMate/ReviewDataApp.py:738: UserWarning:\n",
      "\n",
      "You are in test mode. Your data will not be saved.\n",
      "\n"
     ]
    },
    {
     "name": "stdout",
     "output_type": "stream",
     "text": [
      "Snapshots are available in /Users/cchu/Desktop/Methods/MutationReviewer/example_notebooks/igv_snapshots\n",
      "Snapshots are available in /Users/cchu/Desktop/Methods/MutationReviewer/example_notebooks/igv_snapshots\n",
      "Snapshots are available in /Users/cchu/Desktop/Methods/MutationReviewer/example_notebooks/igv_snapshots\n"
     ]
    }
   ],
   "source": [
    "local_reviewer.run(port=8095, collapsable=False)"
   ]
  },
  {
   "cell_type": "code",
   "execution_count": 26,
   "id": "e273f445-47c8-42cb-9ef9-526d486c5390",
   "metadata": {},
   "outputs": [
    {
     "name": "stderr",
     "output_type": "stream",
     "text": [
      "/Users/cchu/Desktop/Methods/AnnoMate/AnnoMate/ReviewerTemplate.py:477: UserWarning:\n",
      "\n",
      "Data is not frozen. Annotations will not be saved. Please freeze data in the dashboard to save annotations.\n",
      "\n"
     ]
    },
    {
     "data": {
      "text/html": [
       "<div>\n",
       "<style scoped>\n",
       "    .dataframe tbody tr th:only-of-type {\n",
       "        vertical-align: middle;\n",
       "    }\n",
       "\n",
       "    .dataframe tbody tr th {\n",
       "        vertical-align: top;\n",
       "    }\n",
       "\n",
       "    .dataframe thead th {\n",
       "        text-align: right;\n",
       "    }\n",
       "</style>\n",
       "<table border=\"1\" class=\"dataframe\">\n",
       "  <thead>\n",
       "    <tr style=\"text-align: right;\">\n",
       "      <th></th>\n",
       "      <th>mutation_call</th>\n",
       "      <th>sequencing_tags</th>\n",
       "      <th>alignment_tags</th>\n",
       "      <th>normal_tags</th>\n",
       "      <th>tumor_tags</th>\n",
       "      <th>other_tag_description</th>\n",
       "      <th>Notes</th>\n",
       "    </tr>\n",
       "  </thead>\n",
       "  <tbody>\n",
       "    <tr>\n",
       "      <th>17:7578679</th>\n",
       "      <td>Germline</td>\n",
       "      <td></td>\n",
       "      <td></td>\n",
       "      <td></td>\n",
       "      <td></td>\n",
       "      <td></td>\n",
       "      <td></td>\n",
       "    </tr>\n",
       "  </tbody>\n",
       "</table>\n",
       "</div>"
      ],
      "text/plain": [
       "           mutation_call sequencing_tags alignment_tags normal_tags  \\\n",
       "17:7578679      Germline                                              \n",
       "\n",
       "           tumor_tags other_tag_description Notes  \n",
       "17:7578679                                         "
      ]
     },
     "execution_count": 26,
     "metadata": {},
     "output_type": "execute_result"
    }
   ],
   "source": [
    "local_reviewer.get_annot().query('mutation_call != \"\"')"
   ]
  },
  {
   "cell_type": "markdown",
   "id": "cd7953d7-899e-463e-a97f-4f879b23e14f",
   "metadata": {},
   "source": [
    "# Mutation review with urls\n",
    "\n",
    "Below we reference the columns in the bam table that contain the original FTP paths. These can also be gsurls.\n",
    "\n",
    "```\n",
    "bam_cols='original_ftp_path'\n",
    "bai_cols='original_ftp_path_bai'\n",
    "```\n",
    "\n",
    "With FTP we are loading the full bam, so rendering IGV may take longer compared to loading local paths.\n"
   ]
  },
  {
   "cell_type": "code",
   "execution_count": 27,
   "id": "89643b77-53a5-4de6-9204-c1619584a670",
   "metadata": {},
   "outputs": [],
   "source": [
    "url_data_path = f'{notebook_data_dir}/1k_genomes.TP53.review_data.use_urls'\n",
    "url_review_description = 'Test reviewer with FTP bam paths'"
   ]
  },
  {
   "cell_type": "code",
   "execution_count": 28,
   "id": "f1c20348-db26-40c2-9157-c690372fb5a8",
   "metadata": {},
   "outputs": [],
   "source": [
    "reviewer = GeneralMutationReviewer()\n",
    "reviewer.set_review_data(\n",
    "    data_path=url_data_path, \n",
    "    description=url_review_description,     \n",
    "    mutations_df=reformat_patient_vcf_df,\n",
    "    mutation_groupby_cols=['CHROM', 'POS'], # columns to groupby\n",
    "    mutations_df_bam_ref_col='patient_id', \n",
    "    chrom_cols='CHROM', # if a list, must be same length as start_pos_cols\n",
    "    pos_cols='POS',\n",
    "    bams_df=bam_paths_df,\n",
    "    bams_df_ref_col='patient_id',\n",
    "    bam_cols='original_ftp_path',\n",
    "    bai_cols='original_ftp_path_bai',\n",
    ")\n",
    "reviewer.set_default_review_data_annotations_configuration()"
   ]
  },
  {
   "cell_type": "markdown",
   "id": "432fa739-1ffa-4c67-8b17-f4ff1879e2f8",
   "metadata": {},
   "source": [
    "## IGV.js Run\n",
    "\n",
    "No additional setup needed. IGV will be rendered inside the notebook.\n",
    "\n",
    "**NOTE:** IGV.js expects files to come from a server (i.e. a gsurl, http://, etc.). It will not read local paths."
   ]
  },
  {
   "cell_type": "code",
   "execution_count": 29,
   "id": "826abb56-654f-4c3b-aa5d-ef58c8cd051e",
   "metadata": {},
   "outputs": [],
   "source": [
    "reviewer.set_review_app(\n",
    "    mutation_table_display_cols=['CHROM', 'POS', 'REF', 'ALT', 'QUAL', 'patient_id'],\n",
    "    bam_table_display_cols=[],\n",
    "    igv_mode='igv_js',\n",
    ")"
   ]
  },
  {
   "cell_type": "code",
   "execution_count": 31,
   "id": "6994e51e-b45f-4302-b71a-423be50cc5e6",
   "metadata": {
    "tags": []
   },
   "outputs": [
    {
     "name": "stdout",
     "output_type": "stream",
     "text": [
      "Setting auto_export_path to ./data//general_local_mutation_reviewer_example//1k_genomes.TP53.review_data.use_urls/data.auto_export\n",
      "Using ./data//general_local_mutation_reviewer_example//1k_genomes.TP53.review_data.use_urls/data.auto_export for auto exporting.\n",
      "Dash app running on http://0.0.0.0:8094/\n"
     ]
    },
    {
     "name": "stderr",
     "output_type": "stream",
     "text": [
      "/Users/cchu/Desktop/Methods/AnnoMate/AnnoMate/ReviewDataApp.py:738: UserWarning:\n",
      "\n",
      "You are in test mode. Your data will not be saved.\n",
      "\n"
     ]
    }
   ],
   "source": [
    "reviewer.run(port=8094, collapsable=False)"
   ]
  },
  {
   "cell_type": "markdown",
   "id": "6474b2ab-1f3e-4d34-aa57-8fa352eb3ecc",
   "metadata": {},
   "source": [
    "## Desktop/local IGV run\n",
    "\n",
    "Your desktop IGV can also take urls.\n",
    "\n",
    "\n",
    "If you are using google buckets, BEFORE attempting to load bams through the reviewer:\n",
    "1. Open IGV\n",
    "1. Go to \"Google\" and log in\n",
    "1. Go to \"Google\" and enter google project id. This is required for requestor pays. If the mutations are loading but the bams are not, this is likely the problem.\n",
    "1. Run `reviewer.run(...)`"
   ]
  },
  {
   "cell_type": "code",
   "execution_count": 32,
   "id": "a0fb57d9-35a5-45be-9ce6-923ecf4f4d36",
   "metadata": {},
   "outputs": [],
   "source": [
    "reviewer.set_review_app(\n",
    "    mutation_table_display_cols='CHROM\tPOS\tID\tREF\tALT\tQUAL\tFILTER\tINFO\tFORMAT\tpatient_id'.split(),\n",
    "    bam_table_display_cols=[],\n",
    "    igv_mode='igv_local',\n",
    ")"
   ]
  },
  {
   "cell_type": "code",
   "execution_count": 33,
   "id": "11e4b155-fd36-41ef-b39e-710efca2308a",
   "metadata": {},
   "outputs": [
    {
     "name": "stdout",
     "output_type": "stream",
     "text": [
      "Setting auto_export_path to ./data//general_local_mutation_reviewer_example//1k_genomes.TP53.review_data.use_urls/data.auto_export\n",
      "Using ./data//general_local_mutation_reviewer_example//1k_genomes.TP53.review_data.use_urls/data.auto_export for auto exporting.\n"
     ]
    },
    {
     "name": "stderr",
     "output_type": "stream",
     "text": [
      "/Users/cchu/Desktop/Methods/AnnoMate/AnnoMate/ReviewDataApp.py:738: UserWarning:\n",
      "\n",
      "You are in test mode. Your data will not be saved.\n",
      "\n"
     ]
    },
    {
     "name": "stdout",
     "output_type": "stream",
     "text": [
      "Dash app running on http://0.0.0.0:8094/\n",
      "Snapshots are available in /Users/cchu/Desktop/Methods/MutationReviewer/example_notebooks/igv_snapshots\n"
     ]
    }
   ],
   "source": [
    "reviewer.run(port=8094)"
   ]
  },
  {
   "cell_type": "markdown",
   "id": "6f993898-f6db-488f-bfd5-5e725203ea52",
   "metadata": {},
   "source": [
    "# Both options\n",
    "\n",
    "IGV.js still lacks some features that you have in local IGV (i.e. blat). You can include both components in the dash board and use whichever one is appropriate for your review\n"
   ]
  },
  {
   "cell_type": "code",
   "execution_count": 34,
   "id": "7ab7f73d-91cb-49fb-99d2-c83d350f28b5",
   "metadata": {},
   "outputs": [],
   "source": [
    "reviewer.set_review_app(\n",
    "    mutation_table_display_cols='CHROM\tPOS\tID\tREF\tALT\tQUAL\tFILTER\tINFO\tFORMAT\tpatient_id'.split(),\n",
    "    bam_table_display_cols=[],\n",
    "    igv_mode='both',\n",
    ")"
   ]
  },
  {
   "cell_type": "code",
   "execution_count": 35,
   "id": "7fb29cdd-e82a-4fa9-864f-83dd369f55c2",
   "metadata": {},
   "outputs": [
    {
     "name": "stdout",
     "output_type": "stream",
     "text": [
      "Setting auto_export_path to ./data//general_local_mutation_reviewer_example//1k_genomes.TP53.review_data.use_urls/data.auto_export\n",
      "Using ./data//general_local_mutation_reviewer_example//1k_genomes.TP53.review_data.use_urls/data.auto_export for auto exporting.\n",
      "Dash app running on http://0.0.0.0:8094/\n"
     ]
    },
    {
     "name": "stderr",
     "output_type": "stream",
     "text": [
      "/Users/cchu/Desktop/Methods/AnnoMate/AnnoMate/ReviewDataApp.py:738: UserWarning:\n",
      "\n",
      "You are in test mode. Your data will not be saved.\n",
      "\n"
     ]
    }
   ],
   "source": [
    "reviewer.run(port=8094)"
   ]
  },
  {
   "cell_type": "markdown",
   "id": "e579cef3-afb4-4e86-9e88-6bb3684c63df",
   "metadata": {},
   "source": [
    "# Local IGV run on a VM\n",
    "\n",
    "## Set up VM\n",
    "\n",
    "1. Install VNC server (on VM and local)\n",
    "1. Start VNC server\n",
    "1. Port forward\n",
    "\n",
    "## Install IGV\n",
    "\n",
    "1. In the VNC browser go to IGV download page\n",
    "1. Unzip file\n",
    "1. In terminal run the sh file to open IGV\n",
    "1. If reading bams from google buckets, go to the \"google\" tab at the top and log in. Do this BEFORE starting your mutation reviewer\n",
    "1. Start reviewing!"
   ]
  },
  {
   "cell_type": "code",
   "execution_count": null,
   "id": "5b7d5d96-791c-4348-a9c0-ab3b300c4992",
   "metadata": {},
   "outputs": [],
   "source": []
  }
 ],
 "metadata": {
  "kernelspec": {
   "display_name": "mutation_reviewer_env",
   "language": "python",
   "name": "mutation_reviewer_env"
  },
  "language_info": {
   "codemirror_mode": {
    "name": "ipython",
    "version": 3
   },
   "file_extension": ".py",
   "mimetype": "text/x-python",
   "name": "python",
   "nbconvert_exporter": "python",
   "pygments_lexer": "ipython3",
   "version": "3.8.15"
  }
 },
 "nbformat": 4,
 "nbformat_minor": 5
}
