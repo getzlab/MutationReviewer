{
 "cells": [
  {
   "cell_type": "markdown",
   "id": "cb6fdc45-2e34-4c39-9704-30a51a3e5863",
   "metadata": {},
   "source": [
    "# Local Mutation Reviewer Example\n",
    "\n",
    "1. Install IGV here: https://software.broadinstitute.org/software/igv/download (tested on version 2.15)\n",
    "1. BEFORE running the Mutation Reviewer:\n",
    "    1. Open IGV\n",
    "    1. Go to \"Google\" and log in\n",
    "    1. Go to \"Google\" and enter google project id. This is required for requestor pays. If the mutations are loading but the bams are not, this is likely the problem.\n",
    "1. Run the notebook"
   ]
  },
  {
   "cell_type": "code",
   "execution_count": 1,
   "id": "cf126270-6273-458e-88d2-a12f02d457a5",
   "metadata": {},
   "outputs": [],
   "source": [
    "%load_ext autoreload\n",
    "%autoreload 2"
   ]
  },
  {
   "cell_type": "code",
   "execution_count": 2,
   "id": "edc36703-734c-40be-9e43-927c84a6a7b2",
   "metadata": {},
   "outputs": [],
   "source": [
    "import pandas as pd\n",
    "import numpy as np\n",
    "import os\n",
    "from MutationReviewer.Reviewers.GeneralMutationReviewer import GeneralMutationReviewer\n",
    "import dalmatian"
   ]
  },
  {
   "cell_type": "code",
   "execution_count": 3,
   "id": "fb4f16e7-9d5b-4e9b-9397-58798f5f3dfb",
   "metadata": {},
   "outputs": [],
   "source": [
    "data_dir = './data/'\n",
    "if not os.path.isdir(data_dir):\n",
    "    os.mkdir(data_dir)\n",
    "    \n",
    "notebook_data_dir = f'{data_dir}/general_local_mutation_reviewer_example/'\n",
    "if not os.path.isdir(notebook_data_dir):\n",
    "    os.mkdir(notebook_data_dir)"
   ]
  },
  {
   "cell_type": "code",
   "execution_count": 4,
   "id": "128b6a4a-69e5-4bb9-b045-9ee9b0cde833",
   "metadata": {},
   "outputs": [],
   "source": [
    "analysis_workspace = 'broad-getzlab-ibm-taml-t/Ebert-Sperling_MDS-AML-pran-4_Claudia_v1'\n",
    "wm = dalmatian.WorkspaceManager(analysis_workspace)\n",
    "sample_bams_df = wm.get_samples()"
   ]
  },
  {
   "cell_type": "code",
   "execution_count": 5,
   "id": "6f553e82-2e8d-47d2-b5fd-df32178ec900",
   "metadata": {},
   "outputs": [
    {
     "name": "stderr",
     "output_type": "stream",
     "text": [
      "/var/folders/h3/49kgmgs54yv7pd7wbst2wfv80000gp/T/ipykernel_36173/2903373821.py:2: DtypeWarning: Columns (47,48,54,69,88,100,143,147,150,153,154,156,163,164,176,179,181,187,223,229,233,235,236,237,253,262,288,317,320,326,333,344,365,383,390,393,394,397,401,403,404,406,411,413,414,419,429,433,477,484,487,488,491,495,497,498,500,505,507,508,513,523,527) have mixed types. Specify dtype option on import or set low_memory=False.\n",
      "  mutsig_annot_maf_df = pd.read_csv(mutsig_annot_maf_fn, sep='\\t', encoding='iso-8859-1')\n"
     ]
    }
   ],
   "source": [
    "mutsig_annot_maf_fn = 'gs://fc-secure-c220c99a-d38d-4e44-ac3f-093f46579d69/submissions/57ae3382-beee-47af-a5fa-d6ce33c09cc9/mutation_mutsig2cv_hg19/92ba2984-bfd8-4e49-8f8e-644bd7cec874/call-tool_mutsig2cv_hg19/5_0002_Discovery-Participants.final_analysis_set.maf'\n",
    "mutsig_annot_maf_df = pd.read_csv(mutsig_annot_maf_fn, sep='\\t', encoding='iso-8859-1')\n",
    "mutsig_annot_maf_df = mutsig_annot_maf_df.iloc[:100]"
   ]
  },
  {
   "cell_type": "code",
   "execution_count": 21,
   "id": "89643b77-53a5-4de6-9204-c1619584a670",
   "metadata": {},
   "outputs": [],
   "source": [
    "data_pkl_fn = f'{notebook_data_dir}/review_data.5.pkl'\n",
    "review_description = 'Test reviewer'"
   ]
  },
  {
   "cell_type": "code",
   "execution_count": 58,
   "id": "f1c20348-db26-40c2-9157-c690372fb5a8",
   "metadata": {},
   "outputs": [
    {
     "name": "stderr",
     "output_type": "stream",
     "text": [
      "/Users/cchu/Desktop/Methods/MutationReviewer/MutationReviewer/Reviewers/GeneralMutationReviewer.py:55: FutureWarning:\n",
      "\n",
      "The default value of numeric_only in DataFrameGroupBy.sum is deprecated. In a future version, numeric_only will default to False. Either specify numeric_only or select only columns which should be valid for the function.\n",
      "\n"
     ]
    }
   ],
   "source": [
    "reviewer = GeneralMutationReviewer()\n",
    "reviewer.set_review_data(\n",
    "    data_pkl_fn=data_pkl_fn, \n",
    "    description=review_description, \n",
    "    mutations_df=mutsig_annot_maf_df,\n",
    "    bams_df=sample_bams_df.reset_index(),\n",
    "    mutations_df_sample_col='patient', # on patient level\n",
    "    chrom_col='chr',\n",
    "    start_pos_col='pos',\n",
    "    bam_df_sample_col='participant', # on patient level\n",
    "    bam_cols='gpdw_DNA_WES_icev1_cram_or_bam_path',\n",
    "    more_mutation_groupby_cols=['Tumor_Sample_Barcode']\n",
    "    # bai_col='gpdw_DNA_WES_icev1_crai_or_bai_path'\n",
    ")\n",
    "reviewer.set_review_app(\n",
    "    mutation_table_display_cols=['Hugo_Symbol', 'chr', 'pos', 'type', 'classification', 'gnomADg_AF', 't_alt_count', 't_ref_count', 'tumor_f', 'purity'],\n",
    "    bam_table_display_cols=['sample_id', 'participant', 'gpdw_DNA_WES_icev1_cram_or_bam_path', 'gpdw_DNA_WES_icev1_crai_or_bai_path'],\n",
    "    bai_col='gpdw_DNA_WES_icev1_crai_or_bai_path'\n",
    ")\n",
    "reviewer.set_default_review_data_annotations_configuration()"
   ]
  },
  {
   "cell_type": "code",
   "execution_count": 59,
   "id": "6994e51e-b45f-4302-b71a-423be50cc5e6",
   "metadata": {},
   "outputs": [
    {
     "name": "stdout",
     "output_type": "stream",
     "text": [
      "Dash app running on http://0.0.0.0:8089/\n",
      "socket initialized\n",
      "Position to view: 1:12,726,028-12,726,068\n",
      "('gs://fc-02e4b730-cb29-48bb-9c3b-562e075457fe/Getz_Ebert_IBM_13-583_Exomes_PDO-23428_182samples_July2021/RP-1886/Exome/MDA4021076/v3/MDA4021076.bam',)\n",
      "socket closed\n",
      "socket initialized\n",
      "Position to view: 1:12,785,767-12,785,807\n",
      "('gs://fc-02e4b730-cb29-48bb-9c3b-562e075457fe/Getz_Ebert_IBM_13-583_Exomes_9samples_PDO-23431_July2021/RP-1886/Exome/CM50781/v2/CM50781.bam', 'gs://fc-02e4b730-cb29-48bb-9c3b-562e075457fe/Getz_Ebert_IBM_13-583_Exomes_164samples_Sept2019/RP-1886/Exome/CM52752/v1/CM52752.bam')\n",
      "socket closed\n",
      "socket initialized\n",
      "Position to view: 1:94,467,458-94,467,498\n",
      "('gs://fc-02e4b730-cb29-48bb-9c3b-562e075457fe/Getz_Ebert_IBM_13-583_Exomes_PDO-23428_182samples_July2021/RP-1886/Exome/1174269-3/v3/1174269-3.bam',)\n",
      "socket closed\n"
     ]
    }
   ],
   "source": [
    "reviewer.run(port=8089)"
   ]
  },
  {
   "cell_type": "code",
   "execution_count": 11,
   "id": "a09585f5-cfdf-43ad-96cf-a624e1360d8d",
   "metadata": {},
   "outputs": [
    {
     "data": {
      "text/html": [
       "<div>\n",
       "<style scoped>\n",
       "    .dataframe tbody tr th:only-of-type {\n",
       "        vertical-align: middle;\n",
       "    }\n",
       "\n",
       "    .dataframe tbody tr th {\n",
       "        vertical-align: top;\n",
       "    }\n",
       "\n",
       "    .dataframe thead th {\n",
       "        text-align: right;\n",
       "    }\n",
       "</style>\n",
       "<table border=\"1\" class=\"dataframe\">\n",
       "  <thead>\n",
       "    <tr style=\"text-align: right;\">\n",
       "      <th></th>\n",
       "      <th>index</th>\n",
       "      <th>timestamp</th>\n",
       "      <th>source_data_fn</th>\n",
       "      <th>mutation_call</th>\n",
       "      <th>sequencing_tags</th>\n",
       "      <th>alignment_tags</th>\n",
       "      <th>normal_tags</th>\n",
       "      <th>tumor_tags</th>\n",
       "      <th>other_tag_description</th>\n",
       "      <th>Notes</th>\n",
       "    </tr>\n",
       "  </thead>\n",
       "  <tbody>\n",
       "  </tbody>\n",
       "</table>\n",
       "</div>"
      ],
      "text/plain": [
       "Empty DataFrame\n",
       "Columns: [index, timestamp, source_data_fn, mutation_call, sequencing_tags, alignment_tags, normal_tags, tumor_tags, other_tag_description, Notes]\n",
       "Index: []"
      ]
     },
     "execution_count": 11,
     "metadata": {},
     "output_type": "execute_result"
    }
   ],
   "source": [
    "reviewer.get_history()"
   ]
  },
  {
   "cell_type": "code",
   "execution_count": null,
   "id": "0fe033e4-730b-4b29-8c97-b0faae6f1d3b",
   "metadata": {},
   "outputs": [],
   "source": []
  }
 ],
 "metadata": {
  "kernelspec": {
   "display_name": "Python [conda env:mutation_reviewer_env]",
   "language": "python",
   "name": "conda-env-mutation_reviewer_env-py"
  },
  "language_info": {
   "codemirror_mode": {
    "name": "ipython",
    "version": 3
   },
   "file_extension": ".py",
   "mimetype": "text/x-python",
   "name": "python",
   "nbconvert_exporter": "python",
   "pygments_lexer": "ipython3",
   "version": "3.8.15"
  }
 },
 "nbformat": 4,
 "nbformat_minor": 5
}
