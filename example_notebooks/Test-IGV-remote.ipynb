{
 "cells": [
  {
   "cell_type": "markdown",
   "id": "8a1f56e9-6d7e-427d-a7fc-016b6115f8b2",
   "metadata": {
    "tags": []
   },
   "source": [
    "# Test-IGV-remote"
   ]
  },
  {
   "cell_type": "code",
   "execution_count": 3,
   "id": "28f79bd1-c5d0-4378-b395-4cf44378464d",
   "metadata": {},
   "outputs": [
    {
     "name": "stdout",
     "output_type": "stream",
     "text": [
      "Password:\n",
      "sudo: a password is required\n"
     ]
    }
   ],
   "source": [
    "! sudo apt install npm"
   ]
  },
  {
   "cell_type": "code",
   "execution_count": 2,
   "id": "fc309513-256e-4fac-a060-ae3ec85c463d",
   "metadata": {},
   "outputs": [
    {
     "name": "stdout",
     "output_type": "stream",
     "text": [
      "/bin/bash: npm: command not found\n"
     ]
    }
   ],
   "source": [
    "! npm install igv"
   ]
  },
  {
   "cell_type": "code",
   "execution_count": 4,
   "id": "981e3331-cde9-4068-a7ba-912ca598df71",
   "metadata": {},
   "outputs": [],
   "source": [
    "import dash"
   ]
  },
  {
   "cell_type": "code",
   "execution_count": 5,
   "id": "a54841df-214d-4c8f-a5cb-11353718c0c8",
   "metadata": {},
   "outputs": [
    {
     "data": {
      "text/plain": [
       "<module 'dash.html' from '/Users/cchu/opt/anaconda3/envs/mutation_reviewer_env/lib/python3.8/site-packages/dash/html/__init__.py'>"
      ]
     },
     "execution_count": 5,
     "metadata": {},
     "output_type": "execute_result"
    }
   ],
   "source": [
    "dash.html.IFrame()"
   ]
  },
  {
   "cell_type": "code",
   "execution_count": null,
   "id": "73c73a33-3e9c-4d7a-bd94-fb522a94f55c",
   "metadata": {},
   "outputs": [],
   "source": [
    "igv_js = \"\"\"\n",
    "<!DOCTYPE html>\n",
    "<html lang=\"en\">\n",
    "<head>\n",
    "    <meta charset=\"utf-8\">\n",
    "    <meta http-equiv=\"X-UA-Compatible\" content=\"IE=edge\">\n",
    "    <meta name=\"viewport\" content=\"width=device-width, initial-scale=1, maximum-scale=1, user-scalable=no\">\n",
    "    <meta name=\"description\" content=\"\">\n",
    "    <meta name=\"author\" content=\"\">\n",
    "    <link rel=\"shortcut icon\" href=\"https://igv.org/web/img/favicon.ico\">\n",
    "\n",
    "    <title>IGV</title>\n",
    "\n",
    "\n",
    "</head>\n",
    "\n",
    "<body>\n",
    "\n",
    "<div id=\"myDiv\" style=\"padding-top: 50px;padding-bottom: 20px; height: auto\">\n",
    "    <h1>Blank browser to demonstrate loading igv sessions and files from html links. See igv-links.html</h1>\n",
    "</div>\n",
    "\n",
    "<script type=\"module\">\n",
    "\n",
    "    import igv from \"../dist/igv.esm.min.js\"\n",
    "\n",
    "    const div = document.getElementById(\"myDiv\")\n",
    "\n",
    "    igv\n",
    "        .createBrowser(div, {\n",
    "            genome: \"hg19\",\n",
    "            queryParametersSupported: true\n",
    "        })\n",
    "        .then(function (browser) {\n",
    "            console.log(\"Browser ready\")\n",
    "        })\n",
    "\n",
    "\n",
    "</script>\n",
    "\n",
    "</body>\n",
    "\n",
    "</html>\n",
    "\"\"\""
   ]
  }
 ],
 "metadata": {
  "kernelspec": {
   "display_name": "mutation_reviewer_env",
   "language": "python",
   "name": "mutation_reviewer_env"
  },
  "language_info": {
   "codemirror_mode": {
    "name": "ipython",
    "version": 3
   },
   "file_extension": ".py",
   "mimetype": "text/x-python",
   "name": "python",
   "nbconvert_exporter": "python",
   "pygments_lexer": "ipython3",
   "version": "3.8.15"
  }
 },
 "nbformat": 4,
 "nbformat_minor": 5
}
